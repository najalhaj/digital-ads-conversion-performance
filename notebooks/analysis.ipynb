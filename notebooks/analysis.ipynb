{
 "cells": [
  {
   "cell_type": "markdown",
   "id": "8332e32d-ddbb-449b-9740-5b197ef008cb",
   "metadata": {},
   "source": [
    "# A/B Test: Facebook Ads vs. Google Ads Conversion Performance"
   ]
  },
  {
   "cell_type": "markdown",
   "id": "5b10f413-9223-4f9b-a188-d1b013636927",
   "metadata": {},
   "source": [
    "#### **Research Objective:**\n",
    "To determine if the Facebook Ad campaign is more effective in terms of conversions compared to the Google Ad campaign, utilizing an A/B testing methodology."
   ]
  },
  {
   "cell_type": "code",
   "execution_count": 1,
   "id": "d6729a6e-fa63-4311-9320-64fc32b95efe",
   "metadata": {},
   "outputs": [],
   "source": [
    "import pandas as pd\n",
    "import numpy as np\n",
    "import matplotlib.pyplot as plt\n",
    "from matplotlib.dates import DateFormatter\n",
    "import scipy.stats as st"
   ]
  },
  {
   "cell_type": "markdown",
   "id": "3e37ecd6-c232-4095-bdc7-d78e385dca93",
   "metadata": {},
   "source": [
    "## Obtaining data"
   ]
  },
  {
   "cell_type": "code",
   "execution_count": 2,
   "id": "757b4924-873e-4abc-959b-17dc18e60c07",
   "metadata": {},
   "outputs": [],
   "source": [
    "# importing data\n",
    "path = '../data/dataset.csv'\n",
    "df = pd.read_csv(path)"
   ]
  },
  {
   "cell_type": "code",
   "execution_count": 3,
   "id": "df98e9e4-1a4e-405c-958e-d77976c04a0b",
   "metadata": {},
   "outputs": [
    {
     "data": {
      "text/html": [
       "<div>\n",
       "<style scoped>\n",
       "    .dataframe tbody tr th:only-of-type {\n",
       "        vertical-align: middle;\n",
       "    }\n",
       "\n",
       "    .dataframe tbody tr th {\n",
       "        vertical-align: top;\n",
       "    }\n",
       "\n",
       "    .dataframe thead th {\n",
       "        text-align: right;\n",
       "    }\n",
       "</style>\n",
       "<table border=\"1\" class=\"dataframe\">\n",
       "  <thead>\n",
       "    <tr style=\"text-align: right;\">\n",
       "      <th></th>\n",
       "      <th>Date</th>\n",
       "      <th>Facebook Ad Campaign</th>\n",
       "      <th>Facebook Ad Views</th>\n",
       "      <th>Facebook Ad Clicks</th>\n",
       "      <th>Facebook Ad Conversions</th>\n",
       "      <th>Cost per Facebook Ad</th>\n",
       "      <th>Facebook Click-Through Rate (Clicks / View)</th>\n",
       "      <th>Facebook Conversion Rate (Conversions / Clicks)</th>\n",
       "      <th>Facebook Cost per Click (Ad Cost / Clicks)</th>\n",
       "      <th>AdWords Ad Campaign</th>\n",
       "      <th>AdWords Ad Views</th>\n",
       "      <th>AdWords Ad Clicks</th>\n",
       "      <th>AdWords Ad Conversions</th>\n",
       "      <th>Cost per AdWords Ad</th>\n",
       "      <th>AdWords Click-Through Rate (Clicks / View)</th>\n",
       "      <th>AdWords Conversion Rate (Conversions / Click)</th>\n",
       "      <th>AdWords Cost per Click (Ad Cost / Clicks)</th>\n",
       "    </tr>\n",
       "  </thead>\n",
       "  <tbody>\n",
       "    <tr>\n",
       "      <th>0</th>\n",
       "      <td>1/1/2023</td>\n",
       "      <td>FB_Jan</td>\n",
       "      <td>2116</td>\n",
       "      <td>18</td>\n",
       "      <td>8</td>\n",
       "      <td>$126</td>\n",
       "      <td>0.83%</td>\n",
       "      <td>42.73%</td>\n",
       "      <td>$7.14</td>\n",
       "      <td>AW_Jan</td>\n",
       "      <td>4984</td>\n",
       "      <td>59</td>\n",
       "      <td>5</td>\n",
       "      <td>$234</td>\n",
       "      <td>1.18%</td>\n",
       "      <td>8.40%</td>\n",
       "      <td>$3.30</td>\n",
       "    </tr>\n",
       "    <tr>\n",
       "      <th>1</th>\n",
       "      <td>1/2/2023</td>\n",
       "      <td>FB_Jan</td>\n",
       "      <td>3106</td>\n",
       "      <td>36</td>\n",
       "      <td>12</td>\n",
       "      <td>$104</td>\n",
       "      <td>1.15%</td>\n",
       "      <td>34.04%</td>\n",
       "      <td>$2.91</td>\n",
       "      <td>AW_Jan</td>\n",
       "      <td>4022</td>\n",
       "      <td>71</td>\n",
       "      <td>6</td>\n",
       "      <td>$75</td>\n",
       "      <td>1.77%</td>\n",
       "      <td>7.80%</td>\n",
       "      <td>$1.05</td>\n",
       "    </tr>\n",
       "    <tr>\n",
       "      <th>2</th>\n",
       "      <td>1/3/2023</td>\n",
       "      <td>FB_Jan</td>\n",
       "      <td>3105</td>\n",
       "      <td>26</td>\n",
       "      <td>8</td>\n",
       "      <td>$102</td>\n",
       "      <td>0.84%</td>\n",
       "      <td>31.45%</td>\n",
       "      <td>$3.89</td>\n",
       "      <td>AW_Jan</td>\n",
       "      <td>3863</td>\n",
       "      <td>44</td>\n",
       "      <td>4</td>\n",
       "      <td>$141</td>\n",
       "      <td>1.13%</td>\n",
       "      <td>9.59%</td>\n",
       "      <td>$3.23</td>\n",
       "    </tr>\n",
       "    <tr>\n",
       "      <th>3</th>\n",
       "      <td>1/4/2023</td>\n",
       "      <td>FB_Jan</td>\n",
       "      <td>1107</td>\n",
       "      <td>27</td>\n",
       "      <td>9</td>\n",
       "      <td>$71</td>\n",
       "      <td>2.45%</td>\n",
       "      <td>34.76%</td>\n",
       "      <td>$2.62</td>\n",
       "      <td>AW_Jan</td>\n",
       "      <td>3911</td>\n",
       "      <td>49</td>\n",
       "      <td>5</td>\n",
       "      <td>$141</td>\n",
       "      <td>1.26%</td>\n",
       "      <td>11.08%</td>\n",
       "      <td>$2.86</td>\n",
       "    </tr>\n",
       "    <tr>\n",
       "      <th>4</th>\n",
       "      <td>1/5/2023</td>\n",
       "      <td>FB_Jan</td>\n",
       "      <td>1317</td>\n",
       "      <td>15</td>\n",
       "      <td>7</td>\n",
       "      <td>$78</td>\n",
       "      <td>1.10%</td>\n",
       "      <td>47.59%</td>\n",
       "      <td>$5.38</td>\n",
       "      <td>AW_Jan</td>\n",
       "      <td>4070</td>\n",
       "      <td>55</td>\n",
       "      <td>7</td>\n",
       "      <td>$133</td>\n",
       "      <td>1.36%</td>\n",
       "      <td>12.22%</td>\n",
       "      <td>$2.40</td>\n",
       "    </tr>\n",
       "    <tr>\n",
       "      <th>...</th>\n",
       "      <td>...</td>\n",
       "      <td>...</td>\n",
       "      <td>...</td>\n",
       "      <td>...</td>\n",
       "      <td>...</td>\n",
       "      <td>...</td>\n",
       "      <td>...</td>\n",
       "      <td>...</td>\n",
       "      <td>...</td>\n",
       "      <td>...</td>\n",
       "      <td>...</td>\n",
       "      <td>...</td>\n",
       "      <td>...</td>\n",
       "      <td>...</td>\n",
       "      <td>...</td>\n",
       "      <td>...</td>\n",
       "      <td>...</td>\n",
       "    </tr>\n",
       "    <tr>\n",
       "      <th>360</th>\n",
       "      <td>12/27/2023</td>\n",
       "      <td>FB_Dec</td>\n",
       "      <td>3240</td>\n",
       "      <td>51</td>\n",
       "      <td>13</td>\n",
       "      <td>$63</td>\n",
       "      <td>1.57%</td>\n",
       "      <td>25.89%</td>\n",
       "      <td>$1.24</td>\n",
       "      <td>AW_Dec</td>\n",
       "      <td>5332</td>\n",
       "      <td>72</td>\n",
       "      <td>9</td>\n",
       "      <td>$76</td>\n",
       "      <td>1.35%</td>\n",
       "      <td>11.92%</td>\n",
       "      <td>$1.06</td>\n",
       "    </tr>\n",
       "    <tr>\n",
       "      <th>361</th>\n",
       "      <td>12/28/2023</td>\n",
       "      <td>FB_Dec</td>\n",
       "      <td>1510</td>\n",
       "      <td>69</td>\n",
       "      <td>18</td>\n",
       "      <td>$97</td>\n",
       "      <td>4.55%</td>\n",
       "      <td>25.82%</td>\n",
       "      <td>$1.42</td>\n",
       "      <td>AW_Dec</td>\n",
       "      <td>3887</td>\n",
       "      <td>49</td>\n",
       "      <td>6</td>\n",
       "      <td>$121</td>\n",
       "      <td>1.27%</td>\n",
       "      <td>13.10%</td>\n",
       "      <td>$2.46</td>\n",
       "    </tr>\n",
       "    <tr>\n",
       "      <th>362</th>\n",
       "      <td>12/29/2023</td>\n",
       "      <td>FB_Dec</td>\n",
       "      <td>2918</td>\n",
       "      <td>44</td>\n",
       "      <td>13</td>\n",
       "      <td>$49</td>\n",
       "      <td>1.50%</td>\n",
       "      <td>29.11%</td>\n",
       "      <td>$1.11</td>\n",
       "      <td>AW_Dec</td>\n",
       "      <td>5327</td>\n",
       "      <td>62</td>\n",
       "      <td>6</td>\n",
       "      <td>$128</td>\n",
       "      <td>1.16%</td>\n",
       "      <td>9.85%</td>\n",
       "      <td>$2.08</td>\n",
       "    </tr>\n",
       "    <tr>\n",
       "      <th>363</th>\n",
       "      <td>12/30/2023</td>\n",
       "      <td>FB_Dec</td>\n",
       "      <td>2212</td>\n",
       "      <td>37</td>\n",
       "      <td>8</td>\n",
       "      <td>$102</td>\n",
       "      <td>1.68%</td>\n",
       "      <td>22.70%</td>\n",
       "      <td>$2.75</td>\n",
       "      <td>AW_Dec</td>\n",
       "      <td>4020</td>\n",
       "      <td>71</td>\n",
       "      <td>6</td>\n",
       "      <td>$119</td>\n",
       "      <td>1.76%</td>\n",
       "      <td>7.83%</td>\n",
       "      <td>$1.68</td>\n",
       "    </tr>\n",
       "    <tr>\n",
       "      <th>364</th>\n",
       "      <td>12/31/2023</td>\n",
       "      <td>FB_Dec</td>\n",
       "      <td>1470</td>\n",
       "      <td>60</td>\n",
       "      <td>17</td>\n",
       "      <td>$99</td>\n",
       "      <td>4.06%</td>\n",
       "      <td>28.38%</td>\n",
       "      <td>$1.65</td>\n",
       "      <td>AW_Dec</td>\n",
       "      <td>4592</td>\n",
       "      <td>47</td>\n",
       "      <td>6</td>\n",
       "      <td>$86</td>\n",
       "      <td>1.01%</td>\n",
       "      <td>13.60%</td>\n",
       "      <td>$1.85</td>\n",
       "    </tr>\n",
       "  </tbody>\n",
       "</table>\n",
       "<p>365 rows × 17 columns</p>\n",
       "</div>"
      ],
      "text/plain": [
       "           Date Facebook Ad Campaign  Facebook Ad Views  Facebook Ad Clicks  \\\n",
       "0      1/1/2023               FB_Jan               2116                  18   \n",
       "1      1/2/2023               FB_Jan               3106                  36   \n",
       "2      1/3/2023               FB_Jan               3105                  26   \n",
       "3      1/4/2023               FB_Jan               1107                  27   \n",
       "4      1/5/2023               FB_Jan               1317                  15   \n",
       "..          ...                  ...                ...                 ...   \n",
       "360  12/27/2023               FB_Dec               3240                  51   \n",
       "361  12/28/2023               FB_Dec               1510                  69   \n",
       "362  12/29/2023               FB_Dec               2918                  44   \n",
       "363  12/30/2023               FB_Dec               2212                  37   \n",
       "364  12/31/2023               FB_Dec               1470                  60   \n",
       "\n",
       "     Facebook Ad Conversions Cost per Facebook Ad  \\\n",
       "0                          8                 $126   \n",
       "1                         12                 $104   \n",
       "2                          8                 $102   \n",
       "3                          9                  $71   \n",
       "4                          7                  $78   \n",
       "..                       ...                  ...   \n",
       "360                       13                  $63   \n",
       "361                       18                  $97   \n",
       "362                       13                  $49   \n",
       "363                        8                 $102   \n",
       "364                       17                  $99   \n",
       "\n",
       "    Facebook Click-Through Rate (Clicks / View)  \\\n",
       "0                                         0.83%   \n",
       "1                                         1.15%   \n",
       "2                                         0.84%   \n",
       "3                                         2.45%   \n",
       "4                                         1.10%   \n",
       "..                                          ...   \n",
       "360                                       1.57%   \n",
       "361                                       4.55%   \n",
       "362                                       1.50%   \n",
       "363                                       1.68%   \n",
       "364                                       4.06%   \n",
       "\n",
       "    Facebook Conversion Rate (Conversions / Clicks)  \\\n",
       "0                                            42.73%   \n",
       "1                                            34.04%   \n",
       "2                                            31.45%   \n",
       "3                                            34.76%   \n",
       "4                                            47.59%   \n",
       "..                                              ...   \n",
       "360                                          25.89%   \n",
       "361                                          25.82%   \n",
       "362                                          29.11%   \n",
       "363                                          22.70%   \n",
       "364                                          28.38%   \n",
       "\n",
       "    Facebook Cost per Click (Ad Cost / Clicks) AdWords Ad Campaign  \\\n",
       "0                                        $7.14              AW_Jan   \n",
       "1                                        $2.91              AW_Jan   \n",
       "2                                        $3.89              AW_Jan   \n",
       "3                                        $2.62              AW_Jan   \n",
       "4                                        $5.38              AW_Jan   \n",
       "..                                         ...                 ...   \n",
       "360                                      $1.24              AW_Dec   \n",
       "361                                      $1.42              AW_Dec   \n",
       "362                                      $1.11              AW_Dec   \n",
       "363                                      $2.75              AW_Dec   \n",
       "364                                      $1.65              AW_Dec   \n",
       "\n",
       "     AdWords Ad Views  AdWords Ad Clicks  AdWords Ad Conversions  \\\n",
       "0                4984                 59                       5   \n",
       "1                4022                 71                       6   \n",
       "2                3863                 44                       4   \n",
       "3                3911                 49                       5   \n",
       "4                4070                 55                       7   \n",
       "..                ...                ...                     ...   \n",
       "360              5332                 72                       9   \n",
       "361              3887                 49                       6   \n",
       "362              5327                 62                       6   \n",
       "363              4020                 71                       6   \n",
       "364              4592                 47                       6   \n",
       "\n",
       "    Cost per AdWords Ad AdWords Click-Through Rate (Clicks / View)  \\\n",
       "0                  $234                                      1.18%   \n",
       "1                   $75                                      1.77%   \n",
       "2                  $141                                      1.13%   \n",
       "3                  $141                                      1.26%   \n",
       "4                  $133                                      1.36%   \n",
       "..                  ...                                        ...   \n",
       "360                 $76                                      1.35%   \n",
       "361                $121                                      1.27%   \n",
       "362                $128                                      1.16%   \n",
       "363                $119                                      1.76%   \n",
       "364                 $86                                      1.01%   \n",
       "\n",
       "    AdWords Conversion Rate (Conversions / Click)  \\\n",
       "0                                           8.40%   \n",
       "1                                           7.80%   \n",
       "2                                           9.59%   \n",
       "3                                          11.08%   \n",
       "4                                          12.22%   \n",
       "..                                            ...   \n",
       "360                                        11.92%   \n",
       "361                                        13.10%   \n",
       "362                                         9.85%   \n",
       "363                                         7.83%   \n",
       "364                                        13.60%   \n",
       "\n",
       "    AdWords Cost per Click (Ad Cost / Clicks)  \n",
       "0                                       $3.30  \n",
       "1                                       $1.05  \n",
       "2                                       $3.23  \n",
       "3                                       $2.86  \n",
       "4                                       $2.40  \n",
       "..                                        ...  \n",
       "360                                     $1.06  \n",
       "361                                     $2.46  \n",
       "362                                     $2.08  \n",
       "363                                     $1.68  \n",
       "364                                     $1.85  \n",
       "\n",
       "[365 rows x 17 columns]"
      ]
     },
     "execution_count": 3,
     "metadata": {},
     "output_type": "execute_result"
    }
   ],
   "source": [
    "# verifying dataset\n",
    "df"
   ]
  },
  {
   "cell_type": "markdown",
   "id": "ba495a3a-2702-4ffd-9625-ab5f5802dbe8",
   "metadata": {},
   "source": [
    "## Raw Data Cleaning and Preparation"
   ]
  },
  {
   "cell_type": "code",
   "execution_count": 4,
   "id": "744e081e-09c5-442d-a85c-9d5c2c179bc8",
   "metadata": {},
   "outputs": [
    {
     "name": "stdout",
     "output_type": "stream",
     "text": [
      "<class 'pandas.core.frame.DataFrame'>\n",
      "RangeIndex: 365 entries, 0 to 364\n",
      "Data columns (total 17 columns):\n",
      " #   Column                                           Non-Null Count  Dtype \n",
      "---  ------                                           --------------  ----- \n",
      " 0   Date                                             365 non-null    object\n",
      " 1   Facebook Ad Campaign                             365 non-null    object\n",
      " 2   Facebook Ad Views                                365 non-null    int64 \n",
      " 3   Facebook Ad Clicks                               365 non-null    int64 \n",
      " 4   Facebook Ad Conversions                          365 non-null    int64 \n",
      " 5   Cost per Facebook Ad                             365 non-null    object\n",
      " 6   Facebook Click-Through Rate (Clicks / View)      365 non-null    object\n",
      " 7   Facebook Conversion Rate (Conversions / Clicks)  365 non-null    object\n",
      " 8   Facebook Cost per Click (Ad Cost / Clicks)       365 non-null    object\n",
      " 9   AdWords Ad Campaign                              365 non-null    object\n",
      " 10  AdWords Ad Views                                 365 non-null    int64 \n",
      " 11  AdWords Ad Clicks                                365 non-null    int64 \n",
      " 12  AdWords Ad Conversions                           365 non-null    int64 \n",
      " 13  Cost per AdWords Ad                              365 non-null    object\n",
      " 14  AdWords Click-Through Rate (Clicks / View)       365 non-null    object\n",
      " 15  AdWords Conversion Rate (Conversions / Click)    365 non-null    object\n",
      " 16  AdWords Cost per Click (Ad Cost / Clicks)        365 non-null    object\n",
      "dtypes: int64(6), object(11)\n",
      "memory usage: 48.6+ KB\n"
     ]
    }
   ],
   "source": [
    "# dataframe structure and information\n",
    "df.info()"
   ]
  },
  {
   "cell_type": "code",
   "execution_count": 5,
   "id": "e3617ef1-7073-4459-8671-339fd79ec934",
   "metadata": {},
   "outputs": [
    {
     "data": {
      "text/plain": [
       "Date                                               0\n",
       "Facebook Ad Campaign                               0\n",
       "Facebook Ad Views                                  0\n",
       "Facebook Ad Clicks                                 0\n",
       "Facebook Ad Conversions                            0\n",
       "Cost per Facebook Ad                               0\n",
       "Facebook Click-Through Rate (Clicks / View)        0\n",
       "Facebook Conversion Rate (Conversions / Clicks)    0\n",
       "Facebook Cost per Click (Ad Cost / Clicks)         0\n",
       "AdWords Ad Campaign                                0\n",
       "AdWords Ad Views                                   0\n",
       "AdWords Ad Clicks                                  0\n",
       "AdWords Ad Conversions                             0\n",
       "Cost per AdWords Ad                                0\n",
       "AdWords Click-Through Rate (Clicks / View)         0\n",
       "AdWords Conversion Rate (Conversions / Click)      0\n",
       "AdWords Cost per Click (Ad Cost / Clicks)          0\n",
       "dtype: int64"
      ]
     },
     "execution_count": 5,
     "metadata": {},
     "output_type": "execute_result"
    }
   ],
   "source": [
    "# checking for null or missing values\n",
    "df.isnull().sum()"
   ]
  },
  {
   "cell_type": "code",
   "execution_count": 6,
   "id": "747f057d-eefe-40d3-afff-dd4fdd610b17",
   "metadata": {},
   "outputs": [
    {
     "data": {
      "text/plain": [
       "Date                                               0\n",
       "Facebook Ad Campaign                               0\n",
       "Facebook Ad Views                                  0\n",
       "Facebook Ad Clicks                                 0\n",
       "Facebook Ad Conversions                            0\n",
       "Cost per Facebook Ad                               0\n",
       "Facebook Click-Through Rate (Clicks / View)        0\n",
       "Facebook Conversion Rate (Conversions / Clicks)    0\n",
       "Facebook Cost per Click (Ad Cost / Clicks)         0\n",
       "AdWords Ad Campaign                                0\n",
       "AdWords Ad Views                                   0\n",
       "AdWords Ad Clicks                                  0\n",
       "AdWords Ad Conversions                             0\n",
       "Cost per AdWords Ad                                0\n",
       "AdWords Click-Through Rate (Clicks / View)         0\n",
       "AdWords Conversion Rate (Conversions / Click)      0\n",
       "AdWords Cost per Click (Ad Cost / Clicks)          0\n",
       "dtype: int64"
      ]
     },
     "execution_count": 6,
     "metadata": {},
     "output_type": "execute_result"
    }
   ],
   "source": [
    "df.isna().sum()"
   ]
  },
  {
   "cell_type": "code",
   "execution_count": 7,
   "id": "1d58096c-00c3-43fd-a4ed-5c3cd17b23a4",
   "metadata": {},
   "outputs": [
    {
     "data": {
      "text/plain": [
       "Date                                               0\n",
       "Facebook Ad Campaign                               0\n",
       "Facebook Ad Views                                  0\n",
       "Facebook Ad Clicks                                 0\n",
       "Facebook Ad Conversions                            0\n",
       "Cost per Facebook Ad                               0\n",
       "Facebook Click-Through Rate (Clicks / View)        0\n",
       "Facebook Conversion Rate (Conversions / Clicks)    0\n",
       "Facebook Cost per Click (Ad Cost / Clicks)         0\n",
       "AdWords Ad Campaign                                0\n",
       "AdWords Ad Views                                   0\n",
       "AdWords Ad Clicks                                  0\n",
       "AdWords Ad Conversions                             0\n",
       "Cost per AdWords Ad                                0\n",
       "AdWords Click-Through Rate (Clicks / View)         0\n",
       "AdWords Conversion Rate (Conversions / Click)      0\n",
       "AdWords Cost per Click (Ad Cost / Clicks)          0\n",
       "dtype: int64"
      ]
     },
     "execution_count": 7,
     "metadata": {},
     "output_type": "execute_result"
    }
   ],
   "source": [
    "# checking for duplicate values\n",
    "df[df.duplicated()].count()"
   ]
  },
  {
   "cell_type": "markdown",
   "id": "d6979240-9eac-4190-9509-22b3f0bbcc72",
   "metadata": {},
   "source": [
    "### Labeling"
   ]
  },
  {
   "cell_type": "code",
   "execution_count": 8,
   "id": "c091b47e-eaf6-46c2-be26-2ba6d77c986c",
   "metadata": {},
   "outputs": [
    {
     "data": {
      "text/html": [
       "<div>\n",
       "<style scoped>\n",
       "    .dataframe tbody tr th:only-of-type {\n",
       "        vertical-align: middle;\n",
       "    }\n",
       "\n",
       "    .dataframe tbody tr th {\n",
       "        vertical-align: top;\n",
       "    }\n",
       "\n",
       "    .dataframe thead th {\n",
       "        text-align: right;\n",
       "    }\n",
       "</style>\n",
       "<table border=\"1\" class=\"dataframe\">\n",
       "  <thead>\n",
       "    <tr style=\"text-align: right;\">\n",
       "      <th></th>\n",
       "      <th>Date</th>\n",
       "      <th>Facebook Ad Campaign</th>\n",
       "      <th>Facebook Ad Views</th>\n",
       "      <th>Facebook Ad Clicks</th>\n",
       "      <th>Facebook Ad Conversions</th>\n",
       "      <th>Cost per Facebook Ad</th>\n",
       "      <th>Facebook Click-Through Rate (Clicks / View)</th>\n",
       "      <th>Facebook Conversion Rate (Conversions / Clicks)</th>\n",
       "      <th>Facebook Cost per Click (Ad Cost / Clicks)</th>\n",
       "      <th>AdWords Ad Campaign</th>\n",
       "      <th>AdWords Ad Views</th>\n",
       "      <th>AdWords Ad Clicks</th>\n",
       "      <th>AdWords Ad Conversions</th>\n",
       "      <th>Cost per AdWords Ad</th>\n",
       "      <th>AdWords Click-Through Rate (Clicks / View)</th>\n",
       "      <th>AdWords Conversion Rate (Conversions / Click)</th>\n",
       "      <th>AdWords Cost per Click (Ad Cost / Clicks)</th>\n",
       "    </tr>\n",
       "  </thead>\n",
       "  <tbody>\n",
       "    <tr>\n",
       "      <th>0</th>\n",
       "      <td>1/1/2023</td>\n",
       "      <td>FB_Jan</td>\n",
       "      <td>2116</td>\n",
       "      <td>18</td>\n",
       "      <td>8</td>\n",
       "      <td>$126</td>\n",
       "      <td>0.83%</td>\n",
       "      <td>42.73%</td>\n",
       "      <td>$7.14</td>\n",
       "      <td>AW_Jan</td>\n",
       "      <td>4984</td>\n",
       "      <td>59</td>\n",
       "      <td>5</td>\n",
       "      <td>$234</td>\n",
       "      <td>1.18%</td>\n",
       "      <td>8.40%</td>\n",
       "      <td>$3.30</td>\n",
       "    </tr>\n",
       "    <tr>\n",
       "      <th>1</th>\n",
       "      <td>1/2/2023</td>\n",
       "      <td>FB_Jan</td>\n",
       "      <td>3106</td>\n",
       "      <td>36</td>\n",
       "      <td>12</td>\n",
       "      <td>$104</td>\n",
       "      <td>1.15%</td>\n",
       "      <td>34.04%</td>\n",
       "      <td>$2.91</td>\n",
       "      <td>AW_Jan</td>\n",
       "      <td>4022</td>\n",
       "      <td>71</td>\n",
       "      <td>6</td>\n",
       "      <td>$75</td>\n",
       "      <td>1.77%</td>\n",
       "      <td>7.80%</td>\n",
       "      <td>$1.05</td>\n",
       "    </tr>\n",
       "    <tr>\n",
       "      <th>2</th>\n",
       "      <td>1/3/2023</td>\n",
       "      <td>FB_Jan</td>\n",
       "      <td>3105</td>\n",
       "      <td>26</td>\n",
       "      <td>8</td>\n",
       "      <td>$102</td>\n",
       "      <td>0.84%</td>\n",
       "      <td>31.45%</td>\n",
       "      <td>$3.89</td>\n",
       "      <td>AW_Jan</td>\n",
       "      <td>3863</td>\n",
       "      <td>44</td>\n",
       "      <td>4</td>\n",
       "      <td>$141</td>\n",
       "      <td>1.13%</td>\n",
       "      <td>9.59%</td>\n",
       "      <td>$3.23</td>\n",
       "    </tr>\n",
       "    <tr>\n",
       "      <th>3</th>\n",
       "      <td>1/4/2023</td>\n",
       "      <td>FB_Jan</td>\n",
       "      <td>1107</td>\n",
       "      <td>27</td>\n",
       "      <td>9</td>\n",
       "      <td>$71</td>\n",
       "      <td>2.45%</td>\n",
       "      <td>34.76%</td>\n",
       "      <td>$2.62</td>\n",
       "      <td>AW_Jan</td>\n",
       "      <td>3911</td>\n",
       "      <td>49</td>\n",
       "      <td>5</td>\n",
       "      <td>$141</td>\n",
       "      <td>1.26%</td>\n",
       "      <td>11.08%</td>\n",
       "      <td>$2.86</td>\n",
       "    </tr>\n",
       "    <tr>\n",
       "      <th>4</th>\n",
       "      <td>1/5/2023</td>\n",
       "      <td>FB_Jan</td>\n",
       "      <td>1317</td>\n",
       "      <td>15</td>\n",
       "      <td>7</td>\n",
       "      <td>$78</td>\n",
       "      <td>1.10%</td>\n",
       "      <td>47.59%</td>\n",
       "      <td>$5.38</td>\n",
       "      <td>AW_Jan</td>\n",
       "      <td>4070</td>\n",
       "      <td>55</td>\n",
       "      <td>7</td>\n",
       "      <td>$133</td>\n",
       "      <td>1.36%</td>\n",
       "      <td>12.22%</td>\n",
       "      <td>$2.40</td>\n",
       "    </tr>\n",
       "  </tbody>\n",
       "</table>\n",
       "</div>"
      ],
      "text/plain": [
       "       Date Facebook Ad Campaign  Facebook Ad Views  Facebook Ad Clicks  \\\n",
       "0  1/1/2023               FB_Jan               2116                  18   \n",
       "1  1/2/2023               FB_Jan               3106                  36   \n",
       "2  1/3/2023               FB_Jan               3105                  26   \n",
       "3  1/4/2023               FB_Jan               1107                  27   \n",
       "4  1/5/2023               FB_Jan               1317                  15   \n",
       "\n",
       "   Facebook Ad Conversions Cost per Facebook Ad  \\\n",
       "0                        8                 $126   \n",
       "1                       12                 $104   \n",
       "2                        8                 $102   \n",
       "3                        9                  $71   \n",
       "4                        7                  $78   \n",
       "\n",
       "  Facebook Click-Through Rate (Clicks / View)  \\\n",
       "0                                       0.83%   \n",
       "1                                       1.15%   \n",
       "2                                       0.84%   \n",
       "3                                       2.45%   \n",
       "4                                       1.10%   \n",
       "\n",
       "  Facebook Conversion Rate (Conversions / Clicks)  \\\n",
       "0                                          42.73%   \n",
       "1                                          34.04%   \n",
       "2                                          31.45%   \n",
       "3                                          34.76%   \n",
       "4                                          47.59%   \n",
       "\n",
       "  Facebook Cost per Click (Ad Cost / Clicks) AdWords Ad Campaign  \\\n",
       "0                                      $7.14              AW_Jan   \n",
       "1                                      $2.91              AW_Jan   \n",
       "2                                      $3.89              AW_Jan   \n",
       "3                                      $2.62              AW_Jan   \n",
       "4                                      $5.38              AW_Jan   \n",
       "\n",
       "   AdWords Ad Views  AdWords Ad Clicks  AdWords Ad Conversions  \\\n",
       "0              4984                 59                       5   \n",
       "1              4022                 71                       6   \n",
       "2              3863                 44                       4   \n",
       "3              3911                 49                       5   \n",
       "4              4070                 55                       7   \n",
       "\n",
       "  Cost per AdWords Ad AdWords Click-Through Rate (Clicks / View)  \\\n",
       "0                $234                                      1.18%   \n",
       "1                 $75                                      1.77%   \n",
       "2                $141                                      1.13%   \n",
       "3                $141                                      1.26%   \n",
       "4                $133                                      1.36%   \n",
       "\n",
       "  AdWords Conversion Rate (Conversions / Click)  \\\n",
       "0                                         8.40%   \n",
       "1                                         7.80%   \n",
       "2                                         9.59%   \n",
       "3                                        11.08%   \n",
       "4                                        12.22%   \n",
       "\n",
       "  AdWords Cost per Click (Ad Cost / Clicks)  \n",
       "0                                     $3.30  \n",
       "1                                     $1.05  \n",
       "2                                     $3.23  \n",
       "3                                     $2.86  \n",
       "4                                     $2.40  "
      ]
     },
     "execution_count": 8,
     "metadata": {},
     "output_type": "execute_result"
    }
   ],
   "source": [
    "df.head()"
   ]
  },
  {
   "cell_type": "code",
   "execution_count": 9,
   "id": "f401ee9b-7c4a-4728-b1a1-7f53f8f07d41",
   "metadata": {},
   "outputs": [
    {
     "data": {
      "text/plain": [
       "Index(['Date', 'Facebook Ad Campaign', 'Facebook Ad Views',\n",
       "       'Facebook Ad Clicks', 'Facebook Ad Conversions', 'Cost per Facebook Ad',\n",
       "       'Facebook Click-Through Rate (Clicks / View)',\n",
       "       'Facebook Conversion Rate (Conversions / Clicks)',\n",
       "       'Facebook Cost per Click (Ad Cost / Clicks)', 'AdWords Ad Campaign',\n",
       "       'AdWords Ad Views', 'AdWords Ad Clicks', 'AdWords Ad Conversions',\n",
       "       'Cost per AdWords Ad', 'AdWords Click-Through Rate (Clicks / View)',\n",
       "       'AdWords Conversion Rate (Conversions / Click)',\n",
       "       'AdWords Cost per Click (Ad Cost / Clicks)'],\n",
       "      dtype='object')"
      ]
     },
     "execution_count": 9,
     "metadata": {},
     "output_type": "execute_result"
    }
   ],
   "source": [
    "df.columns"
   ]
  },
  {
   "cell_type": "code",
   "execution_count": 10,
   "id": "4242b587-bc0e-48b7-84ab-2d0b5d4d19e6",
   "metadata": {},
   "outputs": [],
   "source": [
    "# renaming columns\n",
    "df.rename({\n",
    "    'Facebook Ad Campaign':'fb_month'\n",
    "    ,'Facebook Ad Views':'fb_views'\n",
    "    ,'Facebook Ad Clicks':'fb_clicks'\n",
    "    ,'Facebook Ad Conversions':'fb_cv'\n",
    "    ,'Cost per Facebook Ad':'fb_cost_per_ad'\n",
    "    ,'Facebook Click-Through Rate (Clicks / View)':'fb_ctr'\n",
    "    ,'Facebook Conversion Rate (Conversions / Clicks)':'fb_cvr'\n",
    "    ,'Facebook Cost per Click (Ad Cost / Clicks)':'fb_cpc'\n",
    "    , 'AdWords Ad Campaign':'g_month'\n",
    "    ,'AdWords Ad Views':'g_views'\n",
    "    ,'AdWords Ad Clicks':'g_clicks'\n",
    "    ,'AdWords Ad Conversions':'g_cv'\n",
    "    ,'Cost per AdWords Ad':'g_cost_per_ad'\n",
    "    ,'AdWords Click-Through Rate (Clicks / View)':'g_ctr'\n",
    "    ,'AdWords Conversion Rate (Conversions / Click)':'g_cvr'\n",
    "    ,'AdWords Cost per Click (Ad Cost / Clicks)':'g_cpc'\n",
    "}, axis=1, inplace=True)"
   ]
  },
  {
   "cell_type": "code",
   "execution_count": 11,
   "id": "367a3348-7894-43a5-b91c-52a8dcb1e22d",
   "metadata": {},
   "outputs": [
    {
     "data": {
      "text/html": [
       "<div>\n",
       "<style scoped>\n",
       "    .dataframe tbody tr th:only-of-type {\n",
       "        vertical-align: middle;\n",
       "    }\n",
       "\n",
       "    .dataframe tbody tr th {\n",
       "        vertical-align: top;\n",
       "    }\n",
       "\n",
       "    .dataframe thead th {\n",
       "        text-align: right;\n",
       "    }\n",
       "</style>\n",
       "<table border=\"1\" class=\"dataframe\">\n",
       "  <thead>\n",
       "    <tr style=\"text-align: right;\">\n",
       "      <th></th>\n",
       "      <th>Date</th>\n",
       "      <th>fb_month</th>\n",
       "      <th>fb_views</th>\n",
       "      <th>fb_clicks</th>\n",
       "      <th>fb_cv</th>\n",
       "      <th>fb_cost_per_ad</th>\n",
       "      <th>fb_ctr</th>\n",
       "      <th>fb_cvr</th>\n",
       "      <th>fb_cpc</th>\n",
       "      <th>g_month</th>\n",
       "      <th>g_views</th>\n",
       "      <th>g_clicks</th>\n",
       "      <th>g_cv</th>\n",
       "      <th>g_cost_per_ad</th>\n",
       "      <th>g_ctr</th>\n",
       "      <th>g_cvr</th>\n",
       "      <th>g_cpc</th>\n",
       "    </tr>\n",
       "  </thead>\n",
       "  <tbody>\n",
       "    <tr>\n",
       "      <th>0</th>\n",
       "      <td>1/1/2023</td>\n",
       "      <td>FB_Jan</td>\n",
       "      <td>2116</td>\n",
       "      <td>18</td>\n",
       "      <td>8</td>\n",
       "      <td>$126</td>\n",
       "      <td>0.83%</td>\n",
       "      <td>42.73%</td>\n",
       "      <td>$7.14</td>\n",
       "      <td>AW_Jan</td>\n",
       "      <td>4984</td>\n",
       "      <td>59</td>\n",
       "      <td>5</td>\n",
       "      <td>$234</td>\n",
       "      <td>1.18%</td>\n",
       "      <td>8.40%</td>\n",
       "      <td>$3.30</td>\n",
       "    </tr>\n",
       "    <tr>\n",
       "      <th>1</th>\n",
       "      <td>1/2/2023</td>\n",
       "      <td>FB_Jan</td>\n",
       "      <td>3106</td>\n",
       "      <td>36</td>\n",
       "      <td>12</td>\n",
       "      <td>$104</td>\n",
       "      <td>1.15%</td>\n",
       "      <td>34.04%</td>\n",
       "      <td>$2.91</td>\n",
       "      <td>AW_Jan</td>\n",
       "      <td>4022</td>\n",
       "      <td>71</td>\n",
       "      <td>6</td>\n",
       "      <td>$75</td>\n",
       "      <td>1.77%</td>\n",
       "      <td>7.80%</td>\n",
       "      <td>$1.05</td>\n",
       "    </tr>\n",
       "    <tr>\n",
       "      <th>2</th>\n",
       "      <td>1/3/2023</td>\n",
       "      <td>FB_Jan</td>\n",
       "      <td>3105</td>\n",
       "      <td>26</td>\n",
       "      <td>8</td>\n",
       "      <td>$102</td>\n",
       "      <td>0.84%</td>\n",
       "      <td>31.45%</td>\n",
       "      <td>$3.89</td>\n",
       "      <td>AW_Jan</td>\n",
       "      <td>3863</td>\n",
       "      <td>44</td>\n",
       "      <td>4</td>\n",
       "      <td>$141</td>\n",
       "      <td>1.13%</td>\n",
       "      <td>9.59%</td>\n",
       "      <td>$3.23</td>\n",
       "    </tr>\n",
       "    <tr>\n",
       "      <th>3</th>\n",
       "      <td>1/4/2023</td>\n",
       "      <td>FB_Jan</td>\n",
       "      <td>1107</td>\n",
       "      <td>27</td>\n",
       "      <td>9</td>\n",
       "      <td>$71</td>\n",
       "      <td>2.45%</td>\n",
       "      <td>34.76%</td>\n",
       "      <td>$2.62</td>\n",
       "      <td>AW_Jan</td>\n",
       "      <td>3911</td>\n",
       "      <td>49</td>\n",
       "      <td>5</td>\n",
       "      <td>$141</td>\n",
       "      <td>1.26%</td>\n",
       "      <td>11.08%</td>\n",
       "      <td>$2.86</td>\n",
       "    </tr>\n",
       "    <tr>\n",
       "      <th>4</th>\n",
       "      <td>1/5/2023</td>\n",
       "      <td>FB_Jan</td>\n",
       "      <td>1317</td>\n",
       "      <td>15</td>\n",
       "      <td>7</td>\n",
       "      <td>$78</td>\n",
       "      <td>1.10%</td>\n",
       "      <td>47.59%</td>\n",
       "      <td>$5.38</td>\n",
       "      <td>AW_Jan</td>\n",
       "      <td>4070</td>\n",
       "      <td>55</td>\n",
       "      <td>7</td>\n",
       "      <td>$133</td>\n",
       "      <td>1.36%</td>\n",
       "      <td>12.22%</td>\n",
       "      <td>$2.40</td>\n",
       "    </tr>\n",
       "  </tbody>\n",
       "</table>\n",
       "</div>"
      ],
      "text/plain": [
       "       Date fb_month  fb_views  fb_clicks  fb_cv fb_cost_per_ad fb_ctr  \\\n",
       "0  1/1/2023   FB_Jan      2116         18      8           $126  0.83%   \n",
       "1  1/2/2023   FB_Jan      3106         36     12           $104  1.15%   \n",
       "2  1/3/2023   FB_Jan      3105         26      8           $102  0.84%   \n",
       "3  1/4/2023   FB_Jan      1107         27      9            $71  2.45%   \n",
       "4  1/5/2023   FB_Jan      1317         15      7            $78  1.10%   \n",
       "\n",
       "   fb_cvr fb_cpc g_month  g_views  g_clicks  g_cv g_cost_per_ad  g_ctr  \\\n",
       "0  42.73%  $7.14  AW_Jan     4984        59     5          $234  1.18%   \n",
       "1  34.04%  $2.91  AW_Jan     4022        71     6           $75  1.77%   \n",
       "2  31.45%  $3.89  AW_Jan     3863        44     4          $141  1.13%   \n",
       "3  34.76%  $2.62  AW_Jan     3911        49     5          $141  1.26%   \n",
       "4  47.59%  $5.38  AW_Jan     4070        55     7          $133  1.36%   \n",
       "\n",
       "    g_cvr  g_cpc  \n",
       "0   8.40%  $3.30  \n",
       "1   7.80%  $1.05  \n",
       "2   9.59%  $3.23  \n",
       "3  11.08%  $2.86  \n",
       "4  12.22%  $2.40  "
      ]
     },
     "execution_count": 11,
     "metadata": {},
     "output_type": "execute_result"
    }
   ],
   "source": [
    "df.head()"
   ]
  },
  {
   "cell_type": "markdown",
   "id": "fbfb30f8-ef53-4995-8a3f-34b90656fd9e",
   "metadata": {},
   "source": [
    "### Dates and Times"
   ]
  },
  {
   "cell_type": "code",
   "execution_count": 12,
   "id": "a63e7c84-cd90-4dec-9e5b-c4e83aa7176a",
   "metadata": {},
   "outputs": [
    {
     "data": {
      "text/html": [
       "<div>\n",
       "<style scoped>\n",
       "    .dataframe tbody tr th:only-of-type {\n",
       "        vertical-align: middle;\n",
       "    }\n",
       "\n",
       "    .dataframe tbody tr th {\n",
       "        vertical-align: top;\n",
       "    }\n",
       "\n",
       "    .dataframe thead th {\n",
       "        text-align: right;\n",
       "    }\n",
       "</style>\n",
       "<table border=\"1\" class=\"dataframe\">\n",
       "  <thead>\n",
       "    <tr style=\"text-align: right;\">\n",
       "      <th></th>\n",
       "      <th>Date</th>\n",
       "      <th>fb_month</th>\n",
       "      <th>fb_views</th>\n",
       "      <th>fb_clicks</th>\n",
       "      <th>fb_cv</th>\n",
       "      <th>fb_cost_per_ad</th>\n",
       "      <th>fb_ctr</th>\n",
       "      <th>fb_cvr</th>\n",
       "      <th>fb_cpc</th>\n",
       "      <th>g_month</th>\n",
       "      <th>g_views</th>\n",
       "      <th>g_clicks</th>\n",
       "      <th>g_cv</th>\n",
       "      <th>g_cost_per_ad</th>\n",
       "      <th>g_ctr</th>\n",
       "      <th>g_cvr</th>\n",
       "      <th>g_cpc</th>\n",
       "    </tr>\n",
       "  </thead>\n",
       "  <tbody>\n",
       "    <tr>\n",
       "      <th>0</th>\n",
       "      <td>1/1/2023</td>\n",
       "      <td>FB_Jan</td>\n",
       "      <td>2116</td>\n",
       "      <td>18</td>\n",
       "      <td>8</td>\n",
       "      <td>$126</td>\n",
       "      <td>0.83%</td>\n",
       "      <td>42.73%</td>\n",
       "      <td>$7.14</td>\n",
       "      <td>AW_Jan</td>\n",
       "      <td>4984</td>\n",
       "      <td>59</td>\n",
       "      <td>5</td>\n",
       "      <td>$234</td>\n",
       "      <td>1.18%</td>\n",
       "      <td>8.40%</td>\n",
       "      <td>$3.30</td>\n",
       "    </tr>\n",
       "    <tr>\n",
       "      <th>1</th>\n",
       "      <td>1/2/2023</td>\n",
       "      <td>FB_Jan</td>\n",
       "      <td>3106</td>\n",
       "      <td>36</td>\n",
       "      <td>12</td>\n",
       "      <td>$104</td>\n",
       "      <td>1.15%</td>\n",
       "      <td>34.04%</td>\n",
       "      <td>$2.91</td>\n",
       "      <td>AW_Jan</td>\n",
       "      <td>4022</td>\n",
       "      <td>71</td>\n",
       "      <td>6</td>\n",
       "      <td>$75</td>\n",
       "      <td>1.77%</td>\n",
       "      <td>7.80%</td>\n",
       "      <td>$1.05</td>\n",
       "    </tr>\n",
       "    <tr>\n",
       "      <th>2</th>\n",
       "      <td>1/3/2023</td>\n",
       "      <td>FB_Jan</td>\n",
       "      <td>3105</td>\n",
       "      <td>26</td>\n",
       "      <td>8</td>\n",
       "      <td>$102</td>\n",
       "      <td>0.84%</td>\n",
       "      <td>31.45%</td>\n",
       "      <td>$3.89</td>\n",
       "      <td>AW_Jan</td>\n",
       "      <td>3863</td>\n",
       "      <td>44</td>\n",
       "      <td>4</td>\n",
       "      <td>$141</td>\n",
       "      <td>1.13%</td>\n",
       "      <td>9.59%</td>\n",
       "      <td>$3.23</td>\n",
       "    </tr>\n",
       "    <tr>\n",
       "      <th>3</th>\n",
       "      <td>1/4/2023</td>\n",
       "      <td>FB_Jan</td>\n",
       "      <td>1107</td>\n",
       "      <td>27</td>\n",
       "      <td>9</td>\n",
       "      <td>$71</td>\n",
       "      <td>2.45%</td>\n",
       "      <td>34.76%</td>\n",
       "      <td>$2.62</td>\n",
       "      <td>AW_Jan</td>\n",
       "      <td>3911</td>\n",
       "      <td>49</td>\n",
       "      <td>5</td>\n",
       "      <td>$141</td>\n",
       "      <td>1.26%</td>\n",
       "      <td>11.08%</td>\n",
       "      <td>$2.86</td>\n",
       "    </tr>\n",
       "    <tr>\n",
       "      <th>4</th>\n",
       "      <td>1/5/2023</td>\n",
       "      <td>FB_Jan</td>\n",
       "      <td>1317</td>\n",
       "      <td>15</td>\n",
       "      <td>7</td>\n",
       "      <td>$78</td>\n",
       "      <td>1.10%</td>\n",
       "      <td>47.59%</td>\n",
       "      <td>$5.38</td>\n",
       "      <td>AW_Jan</td>\n",
       "      <td>4070</td>\n",
       "      <td>55</td>\n",
       "      <td>7</td>\n",
       "      <td>$133</td>\n",
       "      <td>1.36%</td>\n",
       "      <td>12.22%</td>\n",
       "      <td>$2.40</td>\n",
       "    </tr>\n",
       "  </tbody>\n",
       "</table>\n",
       "</div>"
      ],
      "text/plain": [
       "       Date fb_month  fb_views  fb_clicks  fb_cv fb_cost_per_ad fb_ctr  \\\n",
       "0  1/1/2023   FB_Jan      2116         18      8           $126  0.83%   \n",
       "1  1/2/2023   FB_Jan      3106         36     12           $104  1.15%   \n",
       "2  1/3/2023   FB_Jan      3105         26      8           $102  0.84%   \n",
       "3  1/4/2023   FB_Jan      1107         27      9            $71  2.45%   \n",
       "4  1/5/2023   FB_Jan      1317         15      7            $78  1.10%   \n",
       "\n",
       "   fb_cvr fb_cpc g_month  g_views  g_clicks  g_cv g_cost_per_ad  g_ctr  \\\n",
       "0  42.73%  $7.14  AW_Jan     4984        59     5          $234  1.18%   \n",
       "1  34.04%  $2.91  AW_Jan     4022        71     6           $75  1.77%   \n",
       "2  31.45%  $3.89  AW_Jan     3863        44     4          $141  1.13%   \n",
       "3  34.76%  $2.62  AW_Jan     3911        49     5          $141  1.26%   \n",
       "4  47.59%  $5.38  AW_Jan     4070        55     7          $133  1.36%   \n",
       "\n",
       "    g_cvr  g_cpc  \n",
       "0   8.40%  $3.30  \n",
       "1   7.80%  $1.05  \n",
       "2   9.59%  $3.23  \n",
       "3  11.08%  $2.86  \n",
       "4  12.22%  $2.40  "
      ]
     },
     "execution_count": 12,
     "metadata": {},
     "output_type": "execute_result"
    }
   ],
   "source": [
    "df.head()"
   ]
  },
  {
   "cell_type": "code",
   "execution_count": 13,
   "id": "2179b481-55e4-4f58-a19b-eeccf603f61d",
   "metadata": {},
   "outputs": [
    {
     "data": {
      "text/plain": [
       "Date              object\n",
       "fb_month          object\n",
       "fb_views           int64\n",
       "fb_clicks          int64\n",
       "fb_cv              int64\n",
       "fb_cost_per_ad    object\n",
       "fb_ctr            object\n",
       "fb_cvr            object\n",
       "fb_cpc            object\n",
       "g_month           object\n",
       "g_views            int64\n",
       "g_clicks           int64\n",
       "g_cv               int64\n",
       "g_cost_per_ad     object\n",
       "g_ctr             object\n",
       "g_cvr             object\n",
       "g_cpc             object\n",
       "dtype: object"
      ]
     },
     "execution_count": 13,
     "metadata": {},
     "output_type": "execute_result"
    }
   ],
   "source": [
    "df.dtypes"
   ]
  },
  {
   "cell_type": "code",
   "execution_count": 14,
   "id": "893bb814-1d33-46c1-8997-ece72d2208c0",
   "metadata": {},
   "outputs": [],
   "source": [
    "df['Date'] = pd.to_datetime(df['Date'])"
   ]
  },
  {
   "cell_type": "code",
   "execution_count": 15,
   "id": "671f8d07-a7ae-47a7-bc7b-58649a3d7198",
   "metadata": {},
   "outputs": [
    {
     "data": {
      "text/plain": [
       "Date              datetime64[ns]\n",
       "fb_month                  object\n",
       "fb_views                   int64\n",
       "fb_clicks                  int64\n",
       "fb_cv                      int64\n",
       "fb_cost_per_ad            object\n",
       "fb_ctr                    object\n",
       "fb_cvr                    object\n",
       "fb_cpc                    object\n",
       "g_month                   object\n",
       "g_views                    int64\n",
       "g_clicks                   int64\n",
       "g_cv                       int64\n",
       "g_cost_per_ad             object\n",
       "g_ctr                     object\n",
       "g_cvr                     object\n",
       "g_cpc                     object\n",
       "dtype: object"
      ]
     },
     "execution_count": 15,
     "metadata": {},
     "output_type": "execute_result"
    }
   ],
   "source": [
    "df.dtypes"
   ]
  },
  {
   "cell_type": "markdown",
   "id": "7588c1dc-83d4-41aa-8bb4-dc220bd76b84",
   "metadata": {},
   "source": [
    "### Data Types"
   ]
  },
  {
   "cell_type": "code",
   "execution_count": 16,
   "id": "9ca7cfdd-3e1b-4c5c-bd11-f280811f7c29",
   "metadata": {},
   "outputs": [
    {
     "data": {
      "text/html": [
       "<div>\n",
       "<style scoped>\n",
       "    .dataframe tbody tr th:only-of-type {\n",
       "        vertical-align: middle;\n",
       "    }\n",
       "\n",
       "    .dataframe tbody tr th {\n",
       "        vertical-align: top;\n",
       "    }\n",
       "\n",
       "    .dataframe thead th {\n",
       "        text-align: right;\n",
       "    }\n",
       "</style>\n",
       "<table border=\"1\" class=\"dataframe\">\n",
       "  <thead>\n",
       "    <tr style=\"text-align: right;\">\n",
       "      <th></th>\n",
       "      <th>Date</th>\n",
       "      <th>fb_month</th>\n",
       "      <th>fb_views</th>\n",
       "      <th>fb_clicks</th>\n",
       "      <th>fb_cv</th>\n",
       "      <th>fb_cost_per_ad</th>\n",
       "      <th>fb_ctr</th>\n",
       "      <th>fb_cvr</th>\n",
       "      <th>fb_cpc</th>\n",
       "      <th>g_month</th>\n",
       "      <th>g_views</th>\n",
       "      <th>g_clicks</th>\n",
       "      <th>g_cv</th>\n",
       "      <th>g_cost_per_ad</th>\n",
       "      <th>g_ctr</th>\n",
       "      <th>g_cvr</th>\n",
       "      <th>g_cpc</th>\n",
       "    </tr>\n",
       "  </thead>\n",
       "  <tbody>\n",
       "    <tr>\n",
       "      <th>0</th>\n",
       "      <td>2023-01-01</td>\n",
       "      <td>FB_Jan</td>\n",
       "      <td>2116</td>\n",
       "      <td>18</td>\n",
       "      <td>8</td>\n",
       "      <td>$126</td>\n",
       "      <td>0.83%</td>\n",
       "      <td>42.73%</td>\n",
       "      <td>$7.14</td>\n",
       "      <td>AW_Jan</td>\n",
       "      <td>4984</td>\n",
       "      <td>59</td>\n",
       "      <td>5</td>\n",
       "      <td>$234</td>\n",
       "      <td>1.18%</td>\n",
       "      <td>8.40%</td>\n",
       "      <td>$3.30</td>\n",
       "    </tr>\n",
       "    <tr>\n",
       "      <th>1</th>\n",
       "      <td>2023-01-02</td>\n",
       "      <td>FB_Jan</td>\n",
       "      <td>3106</td>\n",
       "      <td>36</td>\n",
       "      <td>12</td>\n",
       "      <td>$104</td>\n",
       "      <td>1.15%</td>\n",
       "      <td>34.04%</td>\n",
       "      <td>$2.91</td>\n",
       "      <td>AW_Jan</td>\n",
       "      <td>4022</td>\n",
       "      <td>71</td>\n",
       "      <td>6</td>\n",
       "      <td>$75</td>\n",
       "      <td>1.77%</td>\n",
       "      <td>7.80%</td>\n",
       "      <td>$1.05</td>\n",
       "    </tr>\n",
       "    <tr>\n",
       "      <th>2</th>\n",
       "      <td>2023-01-03</td>\n",
       "      <td>FB_Jan</td>\n",
       "      <td>3105</td>\n",
       "      <td>26</td>\n",
       "      <td>8</td>\n",
       "      <td>$102</td>\n",
       "      <td>0.84%</td>\n",
       "      <td>31.45%</td>\n",
       "      <td>$3.89</td>\n",
       "      <td>AW_Jan</td>\n",
       "      <td>3863</td>\n",
       "      <td>44</td>\n",
       "      <td>4</td>\n",
       "      <td>$141</td>\n",
       "      <td>1.13%</td>\n",
       "      <td>9.59%</td>\n",
       "      <td>$3.23</td>\n",
       "    </tr>\n",
       "    <tr>\n",
       "      <th>3</th>\n",
       "      <td>2023-01-04</td>\n",
       "      <td>FB_Jan</td>\n",
       "      <td>1107</td>\n",
       "      <td>27</td>\n",
       "      <td>9</td>\n",
       "      <td>$71</td>\n",
       "      <td>2.45%</td>\n",
       "      <td>34.76%</td>\n",
       "      <td>$2.62</td>\n",
       "      <td>AW_Jan</td>\n",
       "      <td>3911</td>\n",
       "      <td>49</td>\n",
       "      <td>5</td>\n",
       "      <td>$141</td>\n",
       "      <td>1.26%</td>\n",
       "      <td>11.08%</td>\n",
       "      <td>$2.86</td>\n",
       "    </tr>\n",
       "    <tr>\n",
       "      <th>4</th>\n",
       "      <td>2023-01-05</td>\n",
       "      <td>FB_Jan</td>\n",
       "      <td>1317</td>\n",
       "      <td>15</td>\n",
       "      <td>7</td>\n",
       "      <td>$78</td>\n",
       "      <td>1.10%</td>\n",
       "      <td>47.59%</td>\n",
       "      <td>$5.38</td>\n",
       "      <td>AW_Jan</td>\n",
       "      <td>4070</td>\n",
       "      <td>55</td>\n",
       "      <td>7</td>\n",
       "      <td>$133</td>\n",
       "      <td>1.36%</td>\n",
       "      <td>12.22%</td>\n",
       "      <td>$2.40</td>\n",
       "    </tr>\n",
       "  </tbody>\n",
       "</table>\n",
       "</div>"
      ],
      "text/plain": [
       "        Date fb_month  fb_views  fb_clicks  fb_cv fb_cost_per_ad fb_ctr  \\\n",
       "0 2023-01-01   FB_Jan      2116         18      8           $126  0.83%   \n",
       "1 2023-01-02   FB_Jan      3106         36     12           $104  1.15%   \n",
       "2 2023-01-03   FB_Jan      3105         26      8           $102  0.84%   \n",
       "3 2023-01-04   FB_Jan      1107         27      9            $71  2.45%   \n",
       "4 2023-01-05   FB_Jan      1317         15      7            $78  1.10%   \n",
       "\n",
       "   fb_cvr fb_cpc g_month  g_views  g_clicks  g_cv g_cost_per_ad  g_ctr  \\\n",
       "0  42.73%  $7.14  AW_Jan     4984        59     5          $234  1.18%   \n",
       "1  34.04%  $2.91  AW_Jan     4022        71     6           $75  1.77%   \n",
       "2  31.45%  $3.89  AW_Jan     3863        44     4          $141  1.13%   \n",
       "3  34.76%  $2.62  AW_Jan     3911        49     5          $141  1.26%   \n",
       "4  47.59%  $5.38  AW_Jan     4070        55     7          $133  1.36%   \n",
       "\n",
       "    g_cvr  g_cpc  \n",
       "0   8.40%  $3.30  \n",
       "1   7.80%  $1.05  \n",
       "2   9.59%  $3.23  \n",
       "3  11.08%  $2.86  \n",
       "4  12.22%  $2.40  "
      ]
     },
     "execution_count": 16,
     "metadata": {},
     "output_type": "execute_result"
    }
   ],
   "source": [
    "df.head()"
   ]
  },
  {
   "cell_type": "code",
   "execution_count": 17,
   "id": "ffff0352-c29b-4299-8e95-a4e15aa2cd85",
   "metadata": {},
   "outputs": [
    {
     "data": {
      "text/plain": [
       "fb_cost_per_ad\n",
       "<class 'str'>    365\n",
       "Name: count, dtype: int64"
      ]
     },
     "execution_count": 17,
     "metadata": {},
     "output_type": "execute_result"
    }
   ],
   "source": [
    "df['fb_cost_per_ad'].apply(type).value_counts()"
   ]
  },
  {
   "cell_type": "code",
   "execution_count": 18,
   "id": "8661ef9b-fe20-4f9f-8b0c-c6d121a994f4",
   "metadata": {},
   "outputs": [],
   "source": [
    "df['fb_cost_per_ad'] = df['fb_cost_per_ad'].replace({'\\$': ''}, regex=True).astype(float)"
   ]
  },
  {
   "cell_type": "code",
   "execution_count": 19,
   "id": "df7201d1-8b6d-4af3-9b19-44b20e3ef6e2",
   "metadata": {},
   "outputs": [
    {
     "data": {
      "text/plain": [
       "fb_cost_per_ad\n",
       "<class 'float'>    365\n",
       "Name: count, dtype: int64"
      ]
     },
     "execution_count": 19,
     "metadata": {},
     "output_type": "execute_result"
    }
   ],
   "source": [
    "df['fb_cost_per_ad'].apply(type).value_counts()"
   ]
  },
  {
   "cell_type": "code",
   "execution_count": 20,
   "id": "33aab8ed-6c66-4fac-ac21-976ee035e118",
   "metadata": {},
   "outputs": [
    {
     "data": {
      "text/plain": [
       "fb_ctr\n",
       "<class 'str'>    365\n",
       "Name: count, dtype: int64"
      ]
     },
     "execution_count": 20,
     "metadata": {},
     "output_type": "execute_result"
    }
   ],
   "source": [
    "df['fb_ctr'].apply(type).value_counts()"
   ]
  },
  {
   "cell_type": "code",
   "execution_count": 21,
   "id": "f153734f-5f99-4150-bc74-1ff182bda1f2",
   "metadata": {},
   "outputs": [],
   "source": [
    "df['fb_ctr'] = df['fb_ctr'].replace({'\\%': ''}, regex=True).astype(float)"
   ]
  },
  {
   "cell_type": "code",
   "execution_count": 22,
   "id": "cdee2560-360b-446c-ab27-3119adf0f61d",
   "metadata": {},
   "outputs": [
    {
     "data": {
      "text/plain": [
       "fb_ctr\n",
       "<class 'float'>    365\n",
       "Name: count, dtype: int64"
      ]
     },
     "execution_count": 22,
     "metadata": {},
     "output_type": "execute_result"
    }
   ],
   "source": [
    "df['fb_ctr'].apply(type).value_counts()"
   ]
  },
  {
   "cell_type": "code",
   "execution_count": 23,
   "id": "4fd8b575-fee4-4af3-9e78-ee0b62d3fabe",
   "metadata": {},
   "outputs": [],
   "source": [
    "df['fb_cvr'] = df['fb_cvr'].replace({'\\%': ''}, regex=True).astype(float)\n",
    "df['fb_cpc'] = df['fb_cpc'].replace({'\\$': ''}, regex=True).astype(float)\n",
    "df['g_cost_per_ad'] = df['g_cost_per_ad'].replace({'\\$': ''}, regex=True).astype(float)\n",
    "df['g_ctr'] = df['g_ctr'].replace({'\\%': ''}, regex=True).astype(float)\n",
    "df['g_cvr'] = df['g_cvr'].replace({'\\%': ''}, regex=True).astype(float)\n",
    "df['g_cpc'] = df['g_cpc'].replace({'\\$': ''}, regex=True).astype(float)"
   ]
  },
  {
   "cell_type": "code",
   "execution_count": 24,
   "id": "f25d015b-9d5c-4355-b623-e8217d11e911",
   "metadata": {},
   "outputs": [
    {
     "data": {
      "text/html": [
       "<div>\n",
       "<style scoped>\n",
       "    .dataframe tbody tr th:only-of-type {\n",
       "        vertical-align: middle;\n",
       "    }\n",
       "\n",
       "    .dataframe tbody tr th {\n",
       "        vertical-align: top;\n",
       "    }\n",
       "\n",
       "    .dataframe thead th {\n",
       "        text-align: right;\n",
       "    }\n",
       "</style>\n",
       "<table border=\"1\" class=\"dataframe\">\n",
       "  <thead>\n",
       "    <tr style=\"text-align: right;\">\n",
       "      <th></th>\n",
       "      <th>Date</th>\n",
       "      <th>fb_month</th>\n",
       "      <th>fb_views</th>\n",
       "      <th>fb_clicks</th>\n",
       "      <th>fb_cv</th>\n",
       "      <th>fb_cost_per_ad</th>\n",
       "      <th>fb_ctr</th>\n",
       "      <th>fb_cvr</th>\n",
       "      <th>fb_cpc</th>\n",
       "      <th>g_month</th>\n",
       "      <th>g_views</th>\n",
       "      <th>g_clicks</th>\n",
       "      <th>g_cv</th>\n",
       "      <th>g_cost_per_ad</th>\n",
       "      <th>g_ctr</th>\n",
       "      <th>g_cvr</th>\n",
       "      <th>g_cpc</th>\n",
       "    </tr>\n",
       "  </thead>\n",
       "  <tbody>\n",
       "    <tr>\n",
       "      <th>0</th>\n",
       "      <td>2023-01-01</td>\n",
       "      <td>FB_Jan</td>\n",
       "      <td>2116</td>\n",
       "      <td>18</td>\n",
       "      <td>8</td>\n",
       "      <td>126.0</td>\n",
       "      <td>0.83</td>\n",
       "      <td>42.73</td>\n",
       "      <td>7.14</td>\n",
       "      <td>AW_Jan</td>\n",
       "      <td>4984</td>\n",
       "      <td>59</td>\n",
       "      <td>5</td>\n",
       "      <td>234.0</td>\n",
       "      <td>1.18</td>\n",
       "      <td>8.40</td>\n",
       "      <td>3.30</td>\n",
       "    </tr>\n",
       "    <tr>\n",
       "      <th>1</th>\n",
       "      <td>2023-01-02</td>\n",
       "      <td>FB_Jan</td>\n",
       "      <td>3106</td>\n",
       "      <td>36</td>\n",
       "      <td>12</td>\n",
       "      <td>104.0</td>\n",
       "      <td>1.15</td>\n",
       "      <td>34.04</td>\n",
       "      <td>2.91</td>\n",
       "      <td>AW_Jan</td>\n",
       "      <td>4022</td>\n",
       "      <td>71</td>\n",
       "      <td>6</td>\n",
       "      <td>75.0</td>\n",
       "      <td>1.77</td>\n",
       "      <td>7.80</td>\n",
       "      <td>1.05</td>\n",
       "    </tr>\n",
       "    <tr>\n",
       "      <th>2</th>\n",
       "      <td>2023-01-03</td>\n",
       "      <td>FB_Jan</td>\n",
       "      <td>3105</td>\n",
       "      <td>26</td>\n",
       "      <td>8</td>\n",
       "      <td>102.0</td>\n",
       "      <td>0.84</td>\n",
       "      <td>31.45</td>\n",
       "      <td>3.89</td>\n",
       "      <td>AW_Jan</td>\n",
       "      <td>3863</td>\n",
       "      <td>44</td>\n",
       "      <td>4</td>\n",
       "      <td>141.0</td>\n",
       "      <td>1.13</td>\n",
       "      <td>9.59</td>\n",
       "      <td>3.23</td>\n",
       "    </tr>\n",
       "    <tr>\n",
       "      <th>3</th>\n",
       "      <td>2023-01-04</td>\n",
       "      <td>FB_Jan</td>\n",
       "      <td>1107</td>\n",
       "      <td>27</td>\n",
       "      <td>9</td>\n",
       "      <td>71.0</td>\n",
       "      <td>2.45</td>\n",
       "      <td>34.76</td>\n",
       "      <td>2.62</td>\n",
       "      <td>AW_Jan</td>\n",
       "      <td>3911</td>\n",
       "      <td>49</td>\n",
       "      <td>5</td>\n",
       "      <td>141.0</td>\n",
       "      <td>1.26</td>\n",
       "      <td>11.08</td>\n",
       "      <td>2.86</td>\n",
       "    </tr>\n",
       "    <tr>\n",
       "      <th>4</th>\n",
       "      <td>2023-01-05</td>\n",
       "      <td>FB_Jan</td>\n",
       "      <td>1317</td>\n",
       "      <td>15</td>\n",
       "      <td>7</td>\n",
       "      <td>78.0</td>\n",
       "      <td>1.10</td>\n",
       "      <td>47.59</td>\n",
       "      <td>5.38</td>\n",
       "      <td>AW_Jan</td>\n",
       "      <td>4070</td>\n",
       "      <td>55</td>\n",
       "      <td>7</td>\n",
       "      <td>133.0</td>\n",
       "      <td>1.36</td>\n",
       "      <td>12.22</td>\n",
       "      <td>2.40</td>\n",
       "    </tr>\n",
       "  </tbody>\n",
       "</table>\n",
       "</div>"
      ],
      "text/plain": [
       "        Date fb_month  fb_views  fb_clicks  fb_cv  fb_cost_per_ad  fb_ctr  \\\n",
       "0 2023-01-01   FB_Jan      2116         18      8           126.0    0.83   \n",
       "1 2023-01-02   FB_Jan      3106         36     12           104.0    1.15   \n",
       "2 2023-01-03   FB_Jan      3105         26      8           102.0    0.84   \n",
       "3 2023-01-04   FB_Jan      1107         27      9            71.0    2.45   \n",
       "4 2023-01-05   FB_Jan      1317         15      7            78.0    1.10   \n",
       "\n",
       "   fb_cvr  fb_cpc g_month  g_views  g_clicks  g_cv  g_cost_per_ad  g_ctr  \\\n",
       "0   42.73    7.14  AW_Jan     4984        59     5          234.0   1.18   \n",
       "1   34.04    2.91  AW_Jan     4022        71     6           75.0   1.77   \n",
       "2   31.45    3.89  AW_Jan     3863        44     4          141.0   1.13   \n",
       "3   34.76    2.62  AW_Jan     3911        49     5          141.0   1.26   \n",
       "4   47.59    5.38  AW_Jan     4070        55     7          133.0   1.36   \n",
       "\n",
       "   g_cvr  g_cpc  \n",
       "0   8.40   3.30  \n",
       "1   7.80   1.05  \n",
       "2   9.59   3.23  \n",
       "3  11.08   2.86  \n",
       "4  12.22   2.40  "
      ]
     },
     "execution_count": 24,
     "metadata": {},
     "output_type": "execute_result"
    }
   ],
   "source": [
    "df.head()"
   ]
  },
  {
   "cell_type": "code",
   "execution_count": 25,
   "id": "a0bc0f41-4a60-4c5e-a6f5-1ac2574414a9",
   "metadata": {},
   "outputs": [],
   "source": [
    "df['fb_ctr'] = df['fb_ctr'] / 100\n",
    "df['fb_cvr'] = df['fb_cvr'] / 100\n",
    "df['g_ctr'] = df['g_ctr'] / 100\n",
    "df['g_cvr'] = df['g_cvr'] / 100"
   ]
  },
  {
   "cell_type": "code",
   "execution_count": 26,
   "id": "d4683d0a-fcc0-4719-882c-52370ecce59e",
   "metadata": {},
   "outputs": [
    {
     "data": {
      "text/html": [
       "<div>\n",
       "<style scoped>\n",
       "    .dataframe tbody tr th:only-of-type {\n",
       "        vertical-align: middle;\n",
       "    }\n",
       "\n",
       "    .dataframe tbody tr th {\n",
       "        vertical-align: top;\n",
       "    }\n",
       "\n",
       "    .dataframe thead th {\n",
       "        text-align: right;\n",
       "    }\n",
       "</style>\n",
       "<table border=\"1\" class=\"dataframe\">\n",
       "  <thead>\n",
       "    <tr style=\"text-align: right;\">\n",
       "      <th></th>\n",
       "      <th>Date</th>\n",
       "      <th>fb_month</th>\n",
       "      <th>fb_views</th>\n",
       "      <th>fb_clicks</th>\n",
       "      <th>fb_cv</th>\n",
       "      <th>fb_cost_per_ad</th>\n",
       "      <th>fb_ctr</th>\n",
       "      <th>fb_cvr</th>\n",
       "      <th>fb_cpc</th>\n",
       "      <th>g_month</th>\n",
       "      <th>g_views</th>\n",
       "      <th>g_clicks</th>\n",
       "      <th>g_cv</th>\n",
       "      <th>g_cost_per_ad</th>\n",
       "      <th>g_ctr</th>\n",
       "      <th>g_cvr</th>\n",
       "      <th>g_cpc</th>\n",
       "    </tr>\n",
       "  </thead>\n",
       "  <tbody>\n",
       "    <tr>\n",
       "      <th>0</th>\n",
       "      <td>2023-01-01</td>\n",
       "      <td>FB_Jan</td>\n",
       "      <td>2116</td>\n",
       "      <td>18</td>\n",
       "      <td>8</td>\n",
       "      <td>126.0</td>\n",
       "      <td>0.0083</td>\n",
       "      <td>0.4273</td>\n",
       "      <td>7.14</td>\n",
       "      <td>AW_Jan</td>\n",
       "      <td>4984</td>\n",
       "      <td>59</td>\n",
       "      <td>5</td>\n",
       "      <td>234.0</td>\n",
       "      <td>0.0118</td>\n",
       "      <td>0.0840</td>\n",
       "      <td>3.30</td>\n",
       "    </tr>\n",
       "    <tr>\n",
       "      <th>1</th>\n",
       "      <td>2023-01-02</td>\n",
       "      <td>FB_Jan</td>\n",
       "      <td>3106</td>\n",
       "      <td>36</td>\n",
       "      <td>12</td>\n",
       "      <td>104.0</td>\n",
       "      <td>0.0115</td>\n",
       "      <td>0.3404</td>\n",
       "      <td>2.91</td>\n",
       "      <td>AW_Jan</td>\n",
       "      <td>4022</td>\n",
       "      <td>71</td>\n",
       "      <td>6</td>\n",
       "      <td>75.0</td>\n",
       "      <td>0.0177</td>\n",
       "      <td>0.0780</td>\n",
       "      <td>1.05</td>\n",
       "    </tr>\n",
       "    <tr>\n",
       "      <th>2</th>\n",
       "      <td>2023-01-03</td>\n",
       "      <td>FB_Jan</td>\n",
       "      <td>3105</td>\n",
       "      <td>26</td>\n",
       "      <td>8</td>\n",
       "      <td>102.0</td>\n",
       "      <td>0.0084</td>\n",
       "      <td>0.3145</td>\n",
       "      <td>3.89</td>\n",
       "      <td>AW_Jan</td>\n",
       "      <td>3863</td>\n",
       "      <td>44</td>\n",
       "      <td>4</td>\n",
       "      <td>141.0</td>\n",
       "      <td>0.0113</td>\n",
       "      <td>0.0959</td>\n",
       "      <td>3.23</td>\n",
       "    </tr>\n",
       "    <tr>\n",
       "      <th>3</th>\n",
       "      <td>2023-01-04</td>\n",
       "      <td>FB_Jan</td>\n",
       "      <td>1107</td>\n",
       "      <td>27</td>\n",
       "      <td>9</td>\n",
       "      <td>71.0</td>\n",
       "      <td>0.0245</td>\n",
       "      <td>0.3476</td>\n",
       "      <td>2.62</td>\n",
       "      <td>AW_Jan</td>\n",
       "      <td>3911</td>\n",
       "      <td>49</td>\n",
       "      <td>5</td>\n",
       "      <td>141.0</td>\n",
       "      <td>0.0126</td>\n",
       "      <td>0.1108</td>\n",
       "      <td>2.86</td>\n",
       "    </tr>\n",
       "    <tr>\n",
       "      <th>4</th>\n",
       "      <td>2023-01-05</td>\n",
       "      <td>FB_Jan</td>\n",
       "      <td>1317</td>\n",
       "      <td>15</td>\n",
       "      <td>7</td>\n",
       "      <td>78.0</td>\n",
       "      <td>0.0110</td>\n",
       "      <td>0.4759</td>\n",
       "      <td>5.38</td>\n",
       "      <td>AW_Jan</td>\n",
       "      <td>4070</td>\n",
       "      <td>55</td>\n",
       "      <td>7</td>\n",
       "      <td>133.0</td>\n",
       "      <td>0.0136</td>\n",
       "      <td>0.1222</td>\n",
       "      <td>2.40</td>\n",
       "    </tr>\n",
       "  </tbody>\n",
       "</table>\n",
       "</div>"
      ],
      "text/plain": [
       "        Date fb_month  fb_views  fb_clicks  fb_cv  fb_cost_per_ad  fb_ctr  \\\n",
       "0 2023-01-01   FB_Jan      2116         18      8           126.0  0.0083   \n",
       "1 2023-01-02   FB_Jan      3106         36     12           104.0  0.0115   \n",
       "2 2023-01-03   FB_Jan      3105         26      8           102.0  0.0084   \n",
       "3 2023-01-04   FB_Jan      1107         27      9            71.0  0.0245   \n",
       "4 2023-01-05   FB_Jan      1317         15      7            78.0  0.0110   \n",
       "\n",
       "   fb_cvr  fb_cpc g_month  g_views  g_clicks  g_cv  g_cost_per_ad   g_ctr  \\\n",
       "0  0.4273    7.14  AW_Jan     4984        59     5          234.0  0.0118   \n",
       "1  0.3404    2.91  AW_Jan     4022        71     6           75.0  0.0177   \n",
       "2  0.3145    3.89  AW_Jan     3863        44     4          141.0  0.0113   \n",
       "3  0.3476    2.62  AW_Jan     3911        49     5          141.0  0.0126   \n",
       "4  0.4759    5.38  AW_Jan     4070        55     7          133.0  0.0136   \n",
       "\n",
       "    g_cvr  g_cpc  \n",
       "0  0.0840   3.30  \n",
       "1  0.0780   1.05  \n",
       "2  0.0959   3.23  \n",
       "3  0.1108   2.86  \n",
       "4  0.1222   2.40  "
      ]
     },
     "execution_count": 26,
     "metadata": {},
     "output_type": "execute_result"
    }
   ],
   "source": [
    "df.head()"
   ]
  },
  {
   "cell_type": "code",
   "execution_count": 27,
   "id": "1001b846-e94d-48fa-a413-ee6e6f7b1232",
   "metadata": {},
   "outputs": [
    {
     "data": {
      "text/plain": [
       "Date              datetime64[ns]\n",
       "fb_month                  object\n",
       "fb_views                   int64\n",
       "fb_clicks                  int64\n",
       "fb_cv                      int64\n",
       "fb_cost_per_ad           float64\n",
       "fb_ctr                   float64\n",
       "fb_cvr                   float64\n",
       "fb_cpc                   float64\n",
       "g_month                   object\n",
       "g_views                    int64\n",
       "g_clicks                   int64\n",
       "g_cv                       int64\n",
       "g_cost_per_ad            float64\n",
       "g_ctr                    float64\n",
       "g_cvr                    float64\n",
       "g_cpc                    float64\n",
       "dtype: object"
      ]
     },
     "execution_count": 27,
     "metadata": {},
     "output_type": "execute_result"
    }
   ],
   "source": [
    "df.dtypes"
   ]
  },
  {
   "cell_type": "markdown",
   "id": "b9fe868b-fd53-4ef4-9c05-54e925b0dfb8",
   "metadata": {},
   "source": [
    "***"
   ]
  },
  {
   "cell_type": "markdown",
   "id": "29f42b74-636e-4280-a9cb-8a793fb8c58d",
   "metadata": {},
   "source": [
    "## Exploratory Data Analysis (EDA)"
   ]
  },
  {
   "cell_type": "markdown",
   "id": "462d9b1e-0129-4b60-9f5c-58ce296bb475",
   "metadata": {},
   "source": [
    "### Summary Statistics"
   ]
  },
  {
   "cell_type": "code",
   "execution_count": 28,
   "id": "e0cc405a-a408-4236-8618-02fb70160aff",
   "metadata": {},
   "outputs": [
    {
     "data": {
      "text/html": [
       "<div>\n",
       "<style scoped>\n",
       "    .dataframe tbody tr th:only-of-type {\n",
       "        vertical-align: middle;\n",
       "    }\n",
       "\n",
       "    .dataframe tbody tr th {\n",
       "        vertical-align: top;\n",
       "    }\n",
       "\n",
       "    .dataframe thead th {\n",
       "        text-align: right;\n",
       "    }\n",
       "</style>\n",
       "<table border=\"1\" class=\"dataframe\">\n",
       "  <thead>\n",
       "    <tr style=\"text-align: right;\">\n",
       "      <th></th>\n",
       "      <th>Date</th>\n",
       "      <th>fb_views</th>\n",
       "      <th>fb_clicks</th>\n",
       "      <th>fb_cv</th>\n",
       "      <th>fb_cost_per_ad</th>\n",
       "      <th>fb_ctr</th>\n",
       "      <th>fb_cvr</th>\n",
       "      <th>fb_cpc</th>\n",
       "      <th>g_views</th>\n",
       "      <th>g_clicks</th>\n",
       "      <th>g_cv</th>\n",
       "      <th>g_cost_per_ad</th>\n",
       "      <th>g_ctr</th>\n",
       "      <th>g_cvr</th>\n",
       "      <th>g_cpc</th>\n",
       "    </tr>\n",
       "  </thead>\n",
       "  <tbody>\n",
       "    <tr>\n",
       "      <th>count</th>\n",
       "      <td>365</td>\n",
       "      <td>365.000000</td>\n",
       "      <td>365.000000</td>\n",
       "      <td>365.000000</td>\n",
       "      <td>365.000000</td>\n",
       "      <td>365.000000</td>\n",
       "      <td>365.000000</td>\n",
       "      <td>365.000000</td>\n",
       "      <td>365.00000</td>\n",
       "      <td>365.000000</td>\n",
       "      <td>365.000000</td>\n",
       "      <td>365.000000</td>\n",
       "      <td>365.000000</td>\n",
       "      <td>365.000000</td>\n",
       "      <td>365.000000</td>\n",
       "    </tr>\n",
       "    <tr>\n",
       "      <th>mean</th>\n",
       "      <td>2023-07-02 00:00:00</td>\n",
       "      <td>2179.687671</td>\n",
       "      <td>44.049315</td>\n",
       "      <td>11.742466</td>\n",
       "      <td>87.780822</td>\n",
       "      <td>0.022013</td>\n",
       "      <td>0.271533</td>\n",
       "      <td>2.187808</td>\n",
       "      <td>4717.19726</td>\n",
       "      <td>60.383562</td>\n",
       "      <td>5.980822</td>\n",
       "      <td>135.084932</td>\n",
       "      <td>0.012958</td>\n",
       "      <td>0.101844</td>\n",
       "      <td>2.377863</td>\n",
       "    </tr>\n",
       "    <tr>\n",
       "      <th>min</th>\n",
       "      <td>2023-01-01 00:00:00</td>\n",
       "      <td>1050.000000</td>\n",
       "      <td>15.000000</td>\n",
       "      <td>5.000000</td>\n",
       "      <td>34.000000</td>\n",
       "      <td>0.008300</td>\n",
       "      <td>0.214800</td>\n",
       "      <td>0.610000</td>\n",
       "      <td>3714.00000</td>\n",
       "      <td>31.000000</td>\n",
       "      <td>3.000000</td>\n",
       "      <td>73.000000</td>\n",
       "      <td>0.005700</td>\n",
       "      <td>0.061300</td>\n",
       "      <td>0.850000</td>\n",
       "    </tr>\n",
       "    <tr>\n",
       "      <th>25%</th>\n",
       "      <td>2023-04-02 00:00:00</td>\n",
       "      <td>1656.000000</td>\n",
       "      <td>35.000000</td>\n",
       "      <td>10.000000</td>\n",
       "      <td>63.000000</td>\n",
       "      <td>0.014900</td>\n",
       "      <td>0.238000</td>\n",
       "      <td>1.410000</td>\n",
       "      <td>4247.00000</td>\n",
       "      <td>49.000000</td>\n",
       "      <td>5.000000</td>\n",
       "      <td>110.000000</td>\n",
       "      <td>0.010300</td>\n",
       "      <td>0.077000</td>\n",
       "      <td>1.760000</td>\n",
       "    </tr>\n",
       "    <tr>\n",
       "      <th>50%</th>\n",
       "      <td>2023-07-02 00:00:00</td>\n",
       "      <td>2202.000000</td>\n",
       "      <td>43.000000</td>\n",
       "      <td>12.000000</td>\n",
       "      <td>88.000000</td>\n",
       "      <td>0.020000</td>\n",
       "      <td>0.267700</td>\n",
       "      <td>2.020000</td>\n",
       "      <td>4711.00000</td>\n",
       "      <td>60.000000</td>\n",
       "      <td>6.000000</td>\n",
       "      <td>135.000000</td>\n",
       "      <td>0.012900</td>\n",
       "      <td>0.099300</td>\n",
       "      <td>2.290000</td>\n",
       "    </tr>\n",
       "    <tr>\n",
       "      <th>75%</th>\n",
       "      <td>2023-10-01 00:00:00</td>\n",
       "      <td>2717.000000</td>\n",
       "      <td>54.000000</td>\n",
       "      <td>13.000000</td>\n",
       "      <td>111.000000</td>\n",
       "      <td>0.026700</td>\n",
       "      <td>0.289700</td>\n",
       "      <td>2.760000</td>\n",
       "      <td>5190.00000</td>\n",
       "      <td>73.000000</td>\n",
       "      <td>7.000000</td>\n",
       "      <td>162.000000</td>\n",
       "      <td>0.015200</td>\n",
       "      <td>0.120300</td>\n",
       "      <td>2.810000</td>\n",
       "    </tr>\n",
       "    <tr>\n",
       "      <th>max</th>\n",
       "      <td>2023-12-31 00:00:00</td>\n",
       "      <td>3320.000000</td>\n",
       "      <td>73.000000</td>\n",
       "      <td>19.000000</td>\n",
       "      <td>144.000000</td>\n",
       "      <td>0.053700</td>\n",
       "      <td>0.475900</td>\n",
       "      <td>7.140000</td>\n",
       "      <td>5760.00000</td>\n",
       "      <td>89.000000</td>\n",
       "      <td>9.000000</td>\n",
       "      <td>234.000000</td>\n",
       "      <td>0.022500</td>\n",
       "      <td>0.200600</td>\n",
       "      <td>5.650000</td>\n",
       "    </tr>\n",
       "    <tr>\n",
       "      <th>std</th>\n",
       "      <td>NaN</td>\n",
       "      <td>618.074639</td>\n",
       "      <td>12.140559</td>\n",
       "      <td>2.924786</td>\n",
       "      <td>28.263014</td>\n",
       "      <td>0.009332</td>\n",
       "      <td>0.041659</td>\n",
       "      <td>1.040820</td>\n",
       "      <td>561.11406</td>\n",
       "      <td>14.368225</td>\n",
       "      <td>1.628106</td>\n",
       "      <td>32.605550</td>\n",
       "      <td>0.003388</td>\n",
       "      <td>0.028874</td>\n",
       "      <td>0.856929</td>\n",
       "    </tr>\n",
       "  </tbody>\n",
       "</table>\n",
       "</div>"
      ],
      "text/plain": [
       "                      Date     fb_views   fb_clicks       fb_cv  \\\n",
       "count                  365   365.000000  365.000000  365.000000   \n",
       "mean   2023-07-02 00:00:00  2179.687671   44.049315   11.742466   \n",
       "min    2023-01-01 00:00:00  1050.000000   15.000000    5.000000   \n",
       "25%    2023-04-02 00:00:00  1656.000000   35.000000   10.000000   \n",
       "50%    2023-07-02 00:00:00  2202.000000   43.000000   12.000000   \n",
       "75%    2023-10-01 00:00:00  2717.000000   54.000000   13.000000   \n",
       "max    2023-12-31 00:00:00  3320.000000   73.000000   19.000000   \n",
       "std                    NaN   618.074639   12.140559    2.924786   \n",
       "\n",
       "       fb_cost_per_ad      fb_ctr      fb_cvr      fb_cpc     g_views  \\\n",
       "count      365.000000  365.000000  365.000000  365.000000   365.00000   \n",
       "mean        87.780822    0.022013    0.271533    2.187808  4717.19726   \n",
       "min         34.000000    0.008300    0.214800    0.610000  3714.00000   \n",
       "25%         63.000000    0.014900    0.238000    1.410000  4247.00000   \n",
       "50%         88.000000    0.020000    0.267700    2.020000  4711.00000   \n",
       "75%        111.000000    0.026700    0.289700    2.760000  5190.00000   \n",
       "max        144.000000    0.053700    0.475900    7.140000  5760.00000   \n",
       "std         28.263014    0.009332    0.041659    1.040820   561.11406   \n",
       "\n",
       "         g_clicks        g_cv  g_cost_per_ad       g_ctr       g_cvr  \\\n",
       "count  365.000000  365.000000     365.000000  365.000000  365.000000   \n",
       "mean    60.383562    5.980822     135.084932    0.012958    0.101844   \n",
       "min     31.000000    3.000000      73.000000    0.005700    0.061300   \n",
       "25%     49.000000    5.000000     110.000000    0.010300    0.077000   \n",
       "50%     60.000000    6.000000     135.000000    0.012900    0.099300   \n",
       "75%     73.000000    7.000000     162.000000    0.015200    0.120300   \n",
       "max     89.000000    9.000000     234.000000    0.022500    0.200600   \n",
       "std     14.368225    1.628106      32.605550    0.003388    0.028874   \n",
       "\n",
       "            g_cpc  \n",
       "count  365.000000  \n",
       "mean     2.377863  \n",
       "min      0.850000  \n",
       "25%      1.760000  \n",
       "50%      2.290000  \n",
       "75%      2.810000  \n",
       "max      5.650000  \n",
       "std      0.856929  "
      ]
     },
     "execution_count": 28,
     "metadata": {},
     "output_type": "execute_result"
    }
   ],
   "source": [
    "# General Description\n",
    "df.describe()"
   ]
  },
  {
   "cell_type": "markdown",
   "id": "3be25bad-b051-466f-adac-bbafe23e7fde",
   "metadata": {},
   "source": [
    "### 1. Univariate Analysis"
   ]
  },
  {
   "cell_type": "markdown",
   "id": "60c2b507-f7b2-451d-aba0-bafd2aa18769",
   "metadata": {},
   "source": [
    "#### **1.1 Facebook Ad Conversion Rates**"
   ]
  },
  {
   "cell_type": "code",
   "execution_count": 29,
   "id": "080df8c9-216d-4f14-8b6d-48f8b4b623ae",
   "metadata": {},
   "outputs": [
    {
     "name": "stdout",
     "output_type": "stream",
     "text": [
      "Mean of Facebook Conversion Rate: 0.2715328767123288\n",
      "Median of Facebook Conversion Rate: 0.2677\n",
      "Standard Deviation of Facebook Conversion Rate: 0.04165920559321595\n"
     ]
    }
   ],
   "source": [
    "# Facebook ad conversiton rate\n",
    "\n",
    "mean_fb_cvr = df['fb_cvr'].mean()\n",
    "median_fb_cvr = df['fb_cvr'].median()\n",
    "std_fb_cvr = df['fb_cvr'].std()\n",
    "\n",
    "print('Mean of Facebook Conversion Rate:', mean_fb_cvr)\n",
    "print('Median of Facebook Conversion Rate:', median_fb_cvr)\n",
    "print('Standard Deviation of Facebook Conversion Rate:', std_fb_cvr)"
   ]
  },
  {
   "cell_type": "markdown",
   "id": "9583e4cf-7fa0-42be-9684-9660084ad798",
   "metadata": {},
   "source": [
    "#### **Frequency Distribution**"
   ]
  },
  {
   "cell_type": "code",
   "execution_count": 30,
   "id": "1d3c556a-7542-469c-9267-2b298c991c5f",
   "metadata": {},
   "outputs": [],
   "source": [
    "binwidth = 0.02\n",
    "start = min(df['fb_cvr'])\n",
    "end = max(df['fb_cvr']) + binwidth\n",
    "step = binwidth\n",
    "\n",
    "bins = []\n",
    "bin = start\n",
    "while bin < end:\n",
    "    bins.append(bin)\n",
    "    bin += step\n",
    "# print(bins)"
   ]
  },
  {
   "cell_type": "code",
   "execution_count": 31,
   "id": "eba0a163-acf0-4cc9-b66c-2d978bed9ecc",
   "metadata": {},
   "outputs": [
    {
     "data": {
      "image/png": "[encoded data removed]",
      "text/plain": [
       "<Figure size 640x480 with 1 Axes>"
      ]
     },
     "metadata": {},
     "output_type": "display_data"
    }
   ],
   "source": [
    "# plotting a histogram of facebook ad conversion rates\n",
    "\n",
    "plt.hist(df['fb_cvr']\n",
    "         , bins = bins\n",
    "         , edgecolor=\"white\"\n",
    "        )\n",
    "\n",
    "plt.title(\"Facebook Ads Conversion Rates Frequency Distribution\", fontsize=14)\n",
    "plt.xlabel(\"Conversion Rates\", fontsize=12)\n",
    "plt.ylabel(\"Frequency\", fontsize=12)\n",
    "plt.xlim(left=0)\n",
    "plt.ylim(bottom=0)\n",
    "plt.grid(axis='y', linestyle='--', alpha=0.5)\n",
    "\n",
    "plt.show()"
   ]
  },
  {
   "cell_type": "markdown",
   "id": "1eb40018-99fd-435f-a9b3-ce7d2ecc9d1d",
   "metadata": {},
   "source": [
    "<div style=\"background-color: #e6ffe6; border-left: 5px solid #4CAF50; padding: 10px; margin: 10px 0; border-radius: 4px;\">\n",
    "    <strong>Quick Comment:</strong> The graph indicates a right-skewed normal distribution (or \"positively skewed\" distribution). Most of the values end up left of the mean, and the most extreme values are on the right side. Also, most of Facebook Ad conversion rates cluster around 20-30%.\n",
    "</div>"
   ]
  },
  {
   "cell_type": "markdown",
   "id": "cbfbc0c1-8201-4afb-922d-a4081a685226",
   "metadata": {},
   "source": [
    "#### **Conversion Rates Over Time**"
   ]
  },
  {
   "cell_type": "code",
   "execution_count": 32,
   "id": "3f40dc1d-ec2d-4766-a574-b88784d13258",
   "metadata": {},
   "outputs": [
    {
     "data": {
      "image/png": "[encoded data removed]",
      "text/plain": [
       "<Figure size 1200x400 with 1 Axes>"
      ]
     },
     "metadata": {},
     "output_type": "display_data"
    }
   ],
   "source": [
    "# plotting a line graph of facebook ad conversion rates\n",
    "\n",
    "fig,ax = plt.subplots(figsize=[12, 4])\n",
    "plt.plot(df['Date'], df['fb_cvr'])\n",
    "\n",
    "plt.title(\"Facebook Conversion Rates Over Time\", fontsize=14)\n",
    "plt.xlabel(\"Date\", fontsize=12)\n",
    "plt.ylabel(\"Conversion Rate (%)\", fontsize=12)\n",
    "# plt.legend(loc='center right')\n",
    "plt.xticks(rotation=45)\n",
    "\n",
    "plt.show()"
   ]
  },
  {
   "cell_type": "markdown",
   "id": "ec10d93f-41dd-440f-9305-ad73457e92dd",
   "metadata": {},
   "source": [
    "***"
   ]
  },
  {
   "cell_type": "markdown",
   "id": "ec0b3625-3474-4bfd-806b-9274659c6079",
   "metadata": {},
   "source": [
    "#### **1.2 Google Ad Conversion Rates**"
   ]
  },
  {
   "cell_type": "code",
   "execution_count": 33,
   "id": "b0e3a8be-7943-456a-be9f-f7f63ec6c248",
   "metadata": {},
   "outputs": [
    {
     "name": "stdout",
     "output_type": "stream",
     "text": [
      "Mean of Google Conversion Rate: 0.10184356164383561\n",
      "Median of Google Conversion Rate: 0.0993\n",
      "Standard Deviation of Google Conversion Rate: 0.028874447683688863\n"
     ]
    }
   ],
   "source": [
    "# Google ad conversiton rate\n",
    "\n",
    "mean_g_cvr = df['g_cvr'].mean()\n",
    "median_g_cvr = df['g_cvr'].median()\n",
    "std_g_cvr = df['g_cvr'].std()\n",
    "\n",
    "print('Mean of Google Conversion Rate:', mean_g_cvr)\n",
    "print('Median of Google Conversion Rate:', median_g_cvr)\n",
    "print('Standard Deviation of Google Conversion Rate:', std_g_cvr)"
   ]
  },
  {
   "cell_type": "markdown",
   "id": "9c2b904a-9805-4604-9f03-3911c1f113b4",
   "metadata": {},
   "source": [
    "#### **Frequency Distribution**"
   ]
  },
  {
   "cell_type": "code",
   "execution_count": 34,
   "id": "f561bfe2-9622-4b79-9a21-37591ab504d6",
   "metadata": {},
   "outputs": [],
   "source": [
    "binwidth = 0.01\n",
    "start = min(df['g_cvr'])\n",
    "end = max(df['g_cvr']) + binwidth\n",
    "step = binwidth\n",
    "\n",
    "bins = []\n",
    "bin = start\n",
    "while bin < end:\n",
    "    bins.append(bin)\n",
    "    bin += step\n",
    "# print(bins)"
   ]
  },
  {
   "cell_type": "code",
   "execution_count": 35,
   "id": "23c4ca00-acff-47d1-a273-421a249fbd67",
   "metadata": {},
   "outputs": [
    {
     "data": {
      "image/png": "[encoded data removed]",
      "text/plain": [
       "<Figure size 640x480 with 1 Axes>"
      ]
     },
     "metadata": {},
     "output_type": "display_data"
    }
   ],
   "source": [
    "# plotting a histogram of google ad conversion rates\n",
    "\n",
    "plt.hist(df['g_cvr']\n",
    "         , bins = bins\n",
    "         , edgecolor=\"white\"\n",
    "        )\n",
    "\n",
    "plt.title(\"Google Ad Conversion Rates Frequency Distribution\", fontsize=14)\n",
    "plt.xlabel(\"Conversion Rates\", fontsize=12)\n",
    "plt.ylabel(\"Frequency\", fontsize=12)\n",
    "plt.xlim(left=0)\n",
    "plt.ylim(bottom=0)\n",
    "plt.grid(axis='y', linestyle='--', alpha=0.5)\n",
    "\n",
    "plt.show()"
   ]
  },
  {
   "cell_type": "markdown",
   "id": "ddd38eed-a6f8-4dac-85b4-14a386d98adf",
   "metadata": {},
   "source": [
    "<div style=\"background-color: #e6ffe6; border-left: 5px solid #4CAF50; padding: 10px; margin: 10px 0; border-radius: 4px;\">\n",
    "    <strong>Quick Comment:</strong> The graph indicates a right-skewed normal distribution (or \"positively skewed\" distribution). Most of the values end up left of the mean, and the most extreme values are on the right side. Also, most of Google Ad conversion rates cluster around 6-12%.\n",
    "</div>"
   ]
  },
  {
   "cell_type": "markdown",
   "id": "178dd17b-32c1-4b3e-ae70-f9de34f018b1",
   "metadata": {},
   "source": [
    "#### **Conversion Rates Over Time**"
   ]
  },
  {
   "cell_type": "code",
   "execution_count": 36,
   "id": "67791ad1-17ed-4419-bf40-970c238b3eeb",
   "metadata": {},
   "outputs": [
    {
     "data": {
      "image/png": "[encoded data removed]",
      "text/plain": [
       "<Figure size 1200x400 with 1 Axes>"
      ]
     },
     "metadata": {},
     "output_type": "display_data"
    }
   ],
   "source": [
    "# plotting a line graph of Google ad conversion rates\n",
    "\n",
    "fig,ax = plt.subplots(figsize=[12, 4])\n",
    "plt.plot(df['Date'], df['g_cvr'])\n",
    "\n",
    "plt.title(\"Google Conversion Rates Over Time\", fontsize=14)\n",
    "plt.xlabel(\"Date\", fontsize=12)\n",
    "plt.ylabel(\"Conversion Rate (%)\", fontsize=12)\n",
    "# plt.legend(loc='center right')\n",
    "plt.xticks(rotation=45)\n",
    "\n",
    "plt.show()"
   ]
  },
  {
   "cell_type": "markdown",
   "id": "e163deea-cba2-4bfc-9d7c-d911bd8df7d9",
   "metadata": {},
   "source": [
    "***"
   ]
  },
  {
   "cell_type": "markdown",
   "id": "9884e7b2-9728-43cc-9e73-774911148d2f",
   "metadata": {},
   "source": [
    "### 2. Bivariate Analysis"
   ]
  },
  {
   "cell_type": "markdown",
   "id": "62d03dc1-c705-4126-8ba2-dabacdc31fb3",
   "metadata": {},
   "source": [
    "#### **2.1 Correlation between Facebook Ad clicks and the number of conversions**\n",
    "##### Do more clicks on the Facebook ad really lead to more sales?"
   ]
  },
  {
   "cell_type": "code",
   "execution_count": 37,
   "id": "84f1b24c-d68c-4815-a527-5d9a6b0f458d",
   "metadata": {},
   "outputs": [
    {
     "data": {
      "image/png": "[encoded data removed]",
      "text/plain": [
       "<Figure size 640x480 with 1 Axes>"
      ]
     },
     "metadata": {},
     "output_type": "display_data"
    }
   ],
   "source": [
    "# scatter plot\n",
    "plt.scatter(df['fb_clicks'], df['fb_cv'])\n",
    "\n",
    "plt.title(\"Facebook Ad Conversions vs Clicks\", fontsize=14)\n",
    "plt.xlabel(\"Clicks\", fontsize=12)\n",
    "plt.ylabel(\"Conversions\", fontsize=12)\n",
    "plt.xlim(left=0)\n",
    "plt.ylim(bottom=0)\n",
    "\n",
    "plt.show()"
   ]
  },
  {
   "cell_type": "code",
   "execution_count": 38,
   "id": "45fa5ba2-8564-4078-8642-f106fe06f17a",
   "metadata": {},
   "outputs": [
    {
     "data": {
      "text/html": [
       "<div>\n",
       "<style scoped>\n",
       "    .dataframe tbody tr th:only-of-type {\n",
       "        vertical-align: middle;\n",
       "    }\n",
       "\n",
       "    .dataframe tbody tr th {\n",
       "        vertical-align: top;\n",
       "    }\n",
       "\n",
       "    .dataframe thead th {\n",
       "        text-align: right;\n",
       "    }\n",
       "</style>\n",
       "<table border=\"1\" class=\"dataframe\">\n",
       "  <thead>\n",
       "    <tr style=\"text-align: right;\">\n",
       "      <th></th>\n",
       "      <th>fb_clicks</th>\n",
       "      <th>fb_cv</th>\n",
       "    </tr>\n",
       "  </thead>\n",
       "  <tbody>\n",
       "    <tr>\n",
       "      <th>fb_clicks</th>\n",
       "      <td>1.000000</td>\n",
       "      <td>0.873775</td>\n",
       "    </tr>\n",
       "    <tr>\n",
       "      <th>fb_cv</th>\n",
       "      <td>0.873775</td>\n",
       "      <td>1.000000</td>\n",
       "    </tr>\n",
       "  </tbody>\n",
       "</table>\n",
       "</div>"
      ],
      "text/plain": [
       "           fb_clicks     fb_cv\n",
       "fb_clicks   1.000000  0.873775\n",
       "fb_cv       0.873775  1.000000"
      ]
     },
     "execution_count": 38,
     "metadata": {},
     "output_type": "execute_result"
    }
   ],
   "source": [
    "df[['fb_clicks', 'fb_cv']].corr()"
   ]
  },
  {
   "cell_type": "code",
   "execution_count": 39,
   "id": "035fa02d-2868-4012-b246-d85cf4f4af87",
   "metadata": {},
   "outputs": [
    {
     "name": "stdout",
     "output_type": "stream",
     "text": [
      "Correlation coefficient: 0.8737750148613904\n"
     ]
    }
   ],
   "source": [
    "print('Correlation coefficient:', df['fb_clicks'].corr(df['fb_cv']))"
   ]
  },
  {
   "cell_type": "markdown",
   "id": "65713296-5a89-4575-aff9-286d89bae543",
   "metadata": {},
   "source": [
    "***"
   ]
  },
  {
   "cell_type": "markdown",
   "id": "8f24814f-d828-4c51-8d39-e51a1c337e20",
   "metadata": {},
   "source": [
    "#### **2.2 Correlation between Google Ad clicks and the number of conversions**\n",
    "##### Do more clicks on the Google ad really lead to more sales?"
   ]
  },
  {
   "cell_type": "code",
   "execution_count": 40,
   "id": "e928c34e-a466-47a9-9e36-24619d147cc5",
   "metadata": {},
   "outputs": [
    {
     "data": {
      "image/png": "[encoded data removed]",
      "text/plain": [
       "<Figure size 640x480 with 1 Axes>"
      ]
     },
     "metadata": {},
     "output_type": "display_data"
    }
   ],
   "source": [
    "# scatter plot\n",
    "plt.scatter(df['g_clicks'], df['g_cv'])\n",
    "\n",
    "plt.title(\"Google Ad Conversions vs Clicks\", fontsize=14)\n",
    "plt.xlabel(\"Clicks\", fontsize=12)\n",
    "plt.ylabel(\"Conversions\", fontsize=12)\n",
    "plt.xlim(left=0)\n",
    "plt.ylim(bottom=0)\n",
    "\n",
    "plt.show()"
   ]
  },
  {
   "cell_type": "code",
   "execution_count": 41,
   "id": "fd30036d-37b4-46a4-a534-2b7cc3579e77",
   "metadata": {},
   "outputs": [
    {
     "data": {
      "text/html": [
       "<div>\n",
       "<style scoped>\n",
       "    .dataframe tbody tr th:only-of-type {\n",
       "        vertical-align: middle;\n",
       "    }\n",
       "\n",
       "    .dataframe tbody tr th {\n",
       "        vertical-align: top;\n",
       "    }\n",
       "\n",
       "    .dataframe thead th {\n",
       "        text-align: right;\n",
       "    }\n",
       "</style>\n",
       "<table border=\"1\" class=\"dataframe\">\n",
       "  <thead>\n",
       "    <tr style=\"text-align: right;\">\n",
       "      <th></th>\n",
       "      <th>g_clicks</th>\n",
       "      <th>g_cv</th>\n",
       "    </tr>\n",
       "  </thead>\n",
       "  <tbody>\n",
       "    <tr>\n",
       "      <th>g_clicks</th>\n",
       "      <td>1.000000</td>\n",
       "      <td>0.447993</td>\n",
       "    </tr>\n",
       "    <tr>\n",
       "      <th>g_cv</th>\n",
       "      <td>0.447993</td>\n",
       "      <td>1.000000</td>\n",
       "    </tr>\n",
       "  </tbody>\n",
       "</table>\n",
       "</div>"
      ],
      "text/plain": [
       "          g_clicks      g_cv\n",
       "g_clicks  1.000000  0.447993\n",
       "g_cv      0.447993  1.000000"
      ]
     },
     "execution_count": 41,
     "metadata": {},
     "output_type": "execute_result"
    }
   ],
   "source": [
    "df[['g_clicks', 'g_cv']].corr()"
   ]
  },
  {
   "cell_type": "code",
   "execution_count": 42,
   "id": "2e882d30-a63e-4a55-9bcd-3e8b4393dff0",
   "metadata": {},
   "outputs": [
    {
     "name": "stdout",
     "output_type": "stream",
     "text": [
      "Correlation coefficient: 0.4479932009469764\n"
     ]
    }
   ],
   "source": [
    "print('Correlation coefficient:', df['g_clicks'].corr(df['g_cv']))"
   ]
  },
  {
   "cell_type": "markdown",
   "id": "315d99fe-fd70-4cf9-b72b-a24e62881d6b",
   "metadata": {},
   "source": [
    "***"
   ]
  },
  {
   "cell_type": "markdown",
   "id": "156df530-3479-403a-b6ed-2d145ab402bf",
   "metadata": {},
   "source": [
    "#### **2.3 Conversions per clicks for each Ad**"
   ]
  },
  {
   "cell_type": "code",
   "execution_count": 43,
   "id": "6323b9ce-b299-404d-a0c1-440e19711cad",
   "metadata": {},
   "outputs": [
    {
     "data": {
      "image/png": "[encoded data removed]",
      "text/plain": [
       "<Figure size 640x480 with 1 Axes>"
      ]
     },
     "metadata": {},
     "output_type": "display_data"
    }
   ],
   "source": [
    "plt.scatter(df['fb_clicks'], df['fb_cv'], label='Facebook Ad')\n",
    "plt.scatter(df['g_clicks'], df['g_cv'], label='Google Ad')\n",
    "\n",
    "plt.title(\"Conversions per clicks for each Ad\", fontsize=14)\n",
    "plt.xlabel(\"Clicks\", fontsize=12)\n",
    "plt.ylabel(\"Conversions\", fontsize=12)\n",
    "plt.xlim(left=0)\n",
    "plt.ylim(bottom=0)\n",
    "plt.legend()\n",
    "\n",
    "plt.show()"
   ]
  },
  {
   "cell_type": "markdown",
   "id": "ba177c22-efa4-4847-981c-78888a82d07e",
   "metadata": {},
   "source": [
    "<div style=\"background-color: #e6ffe6; border-left: 5px solid #4CAF50; padding: 10px; margin: 10px 0; border-radius: 4px;\">\n",
    "    <strong>Quick Comment:</strong> It is clear from this graph that <strong><em>clicks</em></strong> driven by the Google advertising platform are more than those driven by the Facebook advertising platform. However, <strong><em>conversions</em></strong> driven by the Facebook advertising platform are more than those driven by the Google advertising platform.\n",
    "</div>"
   ]
  },
  {
   "cell_type": "markdown",
   "id": "cc36b374-68d7-45cc-8c0e-a88cea898f5f",
   "metadata": {},
   "source": [
    "***"
   ]
  },
  {
   "cell_type": "markdown",
   "id": "5c757bc7-a484-44df-950b-67665a245da7",
   "metadata": {},
   "source": [
    "## A/B Test"
   ]
  },
  {
   "cell_type": "markdown",
   "id": "f1a02b82-d40e-4049-972a-7abbc65ca520",
   "metadata": {},
   "source": [
    "### Comparing Facebook and Google Platforms"
   ]
  },
  {
   "cell_type": "markdown",
   "id": "f7616a8a-d190-4228-885a-908990684b1f",
   "metadata": {},
   "source": [
    "#### **Problem**\n",
    "Examine whether there is a difference between the conversion rate on the Facebook platform versus the Google platform."
   ]
  },
  {
   "cell_type": "markdown",
   "id": "1df2e92e-5e81-43be-b8c8-2f105f087681",
   "metadata": {},
   "source": [
    "#### **Primary Metric**\n",
    "Conversion rate"
   ]
  },
  {
   "cell_type": "markdown",
   "id": "d47f8725-c291-4526-9814-b024c27822a3",
   "metadata": {},
   "source": [
    "#### **Hypothesis**\n",
    "\n",
    "<p style=\"font-size:1.5em\">\n",
    "    $\n",
    "    H_0: \\mu_{_{FB}} - \\mu_{_{G}} = 0\n",
    "    $\n",
    "</p>\n",
    "\n",
    "<p style=\"font-size:1.5em\">\n",
    "    $\n",
    "    H_1: \\mu_{_{FB}} - \\mu_{_{G}} \\neq 0\n",
    "    $\n"
   ]
  },
  {
   "cell_type": "code",
   "execution_count": 44,
   "id": "7b78d891-51e6-4aa9-8fac-454eeba60ae5",
   "metadata": {},
   "outputs": [
    {
     "data": {
      "text/html": [
       "<div>\n",
       "<style scoped>\n",
       "    .dataframe tbody tr th:only-of-type {\n",
       "        vertical-align: middle;\n",
       "    }\n",
       "\n",
       "    .dataframe tbody tr th {\n",
       "        vertical-align: top;\n",
       "    }\n",
       "\n",
       "    .dataframe thead th {\n",
       "        text-align: right;\n",
       "    }\n",
       "</style>\n",
       "<table border=\"1\" class=\"dataframe\">\n",
       "  <thead>\n",
       "    <tr style=\"text-align: right;\">\n",
       "      <th></th>\n",
       "      <th>Date</th>\n",
       "      <th>fb_month</th>\n",
       "      <th>fb_views</th>\n",
       "      <th>fb_clicks</th>\n",
       "      <th>fb_cv</th>\n",
       "      <th>fb_cost_per_ad</th>\n",
       "      <th>fb_ctr</th>\n",
       "      <th>fb_cvr</th>\n",
       "      <th>fb_cpc</th>\n",
       "      <th>g_month</th>\n",
       "      <th>g_views</th>\n",
       "      <th>g_clicks</th>\n",
       "      <th>g_cv</th>\n",
       "      <th>g_cost_per_ad</th>\n",
       "      <th>g_ctr</th>\n",
       "      <th>g_cvr</th>\n",
       "      <th>g_cpc</th>\n",
       "    </tr>\n",
       "  </thead>\n",
       "  <tbody>\n",
       "    <tr>\n",
       "      <th>0</th>\n",
       "      <td>2023-01-01</td>\n",
       "      <td>FB_Jan</td>\n",
       "      <td>2116</td>\n",
       "      <td>18</td>\n",
       "      <td>8</td>\n",
       "      <td>126.0</td>\n",
       "      <td>0.0083</td>\n",
       "      <td>0.4273</td>\n",
       "      <td>7.14</td>\n",
       "      <td>AW_Jan</td>\n",
       "      <td>4984</td>\n",
       "      <td>59</td>\n",
       "      <td>5</td>\n",
       "      <td>234.0</td>\n",
       "      <td>0.0118</td>\n",
       "      <td>0.0840</td>\n",
       "      <td>3.30</td>\n",
       "    </tr>\n",
       "    <tr>\n",
       "      <th>1</th>\n",
       "      <td>2023-01-02</td>\n",
       "      <td>FB_Jan</td>\n",
       "      <td>3106</td>\n",
       "      <td>36</td>\n",
       "      <td>12</td>\n",
       "      <td>104.0</td>\n",
       "      <td>0.0115</td>\n",
       "      <td>0.3404</td>\n",
       "      <td>2.91</td>\n",
       "      <td>AW_Jan</td>\n",
       "      <td>4022</td>\n",
       "      <td>71</td>\n",
       "      <td>6</td>\n",
       "      <td>75.0</td>\n",
       "      <td>0.0177</td>\n",
       "      <td>0.0780</td>\n",
       "      <td>1.05</td>\n",
       "    </tr>\n",
       "    <tr>\n",
       "      <th>2</th>\n",
       "      <td>2023-01-03</td>\n",
       "      <td>FB_Jan</td>\n",
       "      <td>3105</td>\n",
       "      <td>26</td>\n",
       "      <td>8</td>\n",
       "      <td>102.0</td>\n",
       "      <td>0.0084</td>\n",
       "      <td>0.3145</td>\n",
       "      <td>3.89</td>\n",
       "      <td>AW_Jan</td>\n",
       "      <td>3863</td>\n",
       "      <td>44</td>\n",
       "      <td>4</td>\n",
       "      <td>141.0</td>\n",
       "      <td>0.0113</td>\n",
       "      <td>0.0959</td>\n",
       "      <td>3.23</td>\n",
       "    </tr>\n",
       "    <tr>\n",
       "      <th>3</th>\n",
       "      <td>2023-01-04</td>\n",
       "      <td>FB_Jan</td>\n",
       "      <td>1107</td>\n",
       "      <td>27</td>\n",
       "      <td>9</td>\n",
       "      <td>71.0</td>\n",
       "      <td>0.0245</td>\n",
       "      <td>0.3476</td>\n",
       "      <td>2.62</td>\n",
       "      <td>AW_Jan</td>\n",
       "      <td>3911</td>\n",
       "      <td>49</td>\n",
       "      <td>5</td>\n",
       "      <td>141.0</td>\n",
       "      <td>0.0126</td>\n",
       "      <td>0.1108</td>\n",
       "      <td>2.86</td>\n",
       "    </tr>\n",
       "    <tr>\n",
       "      <th>4</th>\n",
       "      <td>2023-01-05</td>\n",
       "      <td>FB_Jan</td>\n",
       "      <td>1317</td>\n",
       "      <td>15</td>\n",
       "      <td>7</td>\n",
       "      <td>78.0</td>\n",
       "      <td>0.0110</td>\n",
       "      <td>0.4759</td>\n",
       "      <td>5.38</td>\n",
       "      <td>AW_Jan</td>\n",
       "      <td>4070</td>\n",
       "      <td>55</td>\n",
       "      <td>7</td>\n",
       "      <td>133.0</td>\n",
       "      <td>0.0136</td>\n",
       "      <td>0.1222</td>\n",
       "      <td>2.40</td>\n",
       "    </tr>\n",
       "  </tbody>\n",
       "</table>\n",
       "</div>"
      ],
      "text/plain": [
       "        Date fb_month  fb_views  fb_clicks  fb_cv  fb_cost_per_ad  fb_ctr  \\\n",
       "0 2023-01-01   FB_Jan      2116         18      8           126.0  0.0083   \n",
       "1 2023-01-02   FB_Jan      3106         36     12           104.0  0.0115   \n",
       "2 2023-01-03   FB_Jan      3105         26      8           102.0  0.0084   \n",
       "3 2023-01-04   FB_Jan      1107         27      9            71.0  0.0245   \n",
       "4 2023-01-05   FB_Jan      1317         15      7            78.0  0.0110   \n",
       "\n",
       "   fb_cvr  fb_cpc g_month  g_views  g_clicks  g_cv  g_cost_per_ad   g_ctr  \\\n",
       "0  0.4273    7.14  AW_Jan     4984        59     5          234.0  0.0118   \n",
       "1  0.3404    2.91  AW_Jan     4022        71     6           75.0  0.0177   \n",
       "2  0.3145    3.89  AW_Jan     3863        44     4          141.0  0.0113   \n",
       "3  0.3476    2.62  AW_Jan     3911        49     5          141.0  0.0126   \n",
       "4  0.4759    5.38  AW_Jan     4070        55     7          133.0  0.0136   \n",
       "\n",
       "    g_cvr  g_cpc  \n",
       "0  0.0840   3.30  \n",
       "1  0.0780   1.05  \n",
       "2  0.0959   3.23  \n",
       "3  0.1108   2.86  \n",
       "4  0.1222   2.40  "
      ]
     },
     "execution_count": 44,
     "metadata": {},
     "output_type": "execute_result"
    }
   ],
   "source": [
    "df.head()"
   ]
  },
  {
   "cell_type": "code",
   "execution_count": 47,
   "id": "33d3acde-0f52-41ad-907f-61a7730459ab",
   "metadata": {},
   "outputs": [
    {
     "name": "stdout",
     "output_type": "stream",
     "text": [
      "0.16968931506849316\n"
     ]
    }
   ],
   "source": [
    "# means difference\n",
    "mean_diff = mean_fb_cvr - mean_g_cvr\n",
    "print(mean_diff)"
   ]
  },
  {
   "cell_type": "code",
   "execution_count": 46,
   "id": "5c1e729b-e8d7-4a13-9034-3c8e83ef1995",
   "metadata": {},
   "outputs": [
    {
     "data": {
      "text/plain": [
       "(365, 17)"
      ]
     },
     "execution_count": 46,
     "metadata": {},
     "output_type": "execute_result"
    }
   ],
   "source": [
    "df.shape"
   ]
  },
  {
   "cell_type": "code",
   "execution_count": 48,
   "id": "688ac086-71be-4494-bf6c-61e11eeaa744",
   "metadata": {},
   "outputs": [
    {
     "name": "stdout",
     "output_type": "stream",
     "text": [
      "365 365\n"
     ]
    }
   ],
   "source": [
    "# samples sizes\n",
    "n_fb = df['fb_cvr'].count()\n",
    "n_g = df['g_cvr'].count()\n",
    "print(n_fb, n_g)"
   ]
  },
  {
   "cell_type": "code",
   "execution_count": 49,
   "id": "b6814e57-5d22-4db9-9eb4-be39299c979e",
   "metadata": {},
   "outputs": [
    {
     "name": "stdout",
     "output_type": "stream",
     "text": [
      "728\n"
     ]
    }
   ],
   "source": [
    "# degrees of freedom\n",
    "dof = n_fb + n_g - 2\n",
    "print(dof)"
   ]
  },
  {
   "cell_type": "code",
   "execution_count": 50,
   "id": "ece5a070-fe47-42d7-96f6-73a382f07150",
   "metadata": {},
   "outputs": [
    {
     "name": "stdout",
     "output_type": "stream",
     "text": [
      "0.0017354894106578352 0.0008337337290380852\n"
     ]
    }
   ],
   "source": [
    "# variance\n",
    "var_fb = df['fb_cvr'].var()\n",
    "var_g = df['g_cvr'].var()\n",
    "print(var_fb, var_g)"
   ]
  },
  {
   "cell_type": "code",
   "execution_count": 51,
   "id": "0a0741d1-2d76-4be5-aee9-e80a849d4b32",
   "metadata": {},
   "outputs": [
    {
     "name": "stdout",
     "output_type": "stream",
     "text": [
      "0.0012846115698479602\n"
     ]
    }
   ],
   "source": [
    "# pooled variance\n",
    "varp = (((n_fb - 1) * var_fb) + ((n_g - 1) * var_g)) / dof\n",
    "print(varp)"
   ]
  },
  {
   "cell_type": "code",
   "execution_count": 52,
   "id": "f70ff6b0-bd01-4029-ae7c-8a551efd0a1a",
   "metadata": {},
   "outputs": [
    {
     "name": "stdout",
     "output_type": "stream",
     "text": [
      "0.0026531052572440882\n"
     ]
    }
   ],
   "source": [
    "# pooled standard error\n",
    "se_p = ((varp / n_fb) + (varp / n_g)) ** (1/2)\n",
    "print(se_p)"
   ]
  },
  {
   "cell_type": "code",
   "execution_count": 53,
   "id": "2290aabe-86b7-48a6-a9a5-f3b0ca800616",
   "metadata": {},
   "outputs": [
    {
     "name": "stdout",
     "output_type": "stream",
     "text": [
      "63.95875723557152\n"
     ]
    }
   ],
   "source": [
    "# t-score\n",
    "tscr = (mean_diff - 0) / se_p\n",
    "print(tscr)"
   ]
  },
  {
   "cell_type": "code",
   "execution_count": 53,
   "id": "048bdb1f-7e18-4782-87ee-ebad6b50c148",
   "metadata": {},
   "outputs": [
    {
     "data": {
      "text/html": [
       "<div>\n",
       "<style scoped>\n",
       "    .dataframe tbody tr th:only-of-type {\n",
       "        vertical-align: middle;\n",
       "    }\n",
       "\n",
       "    .dataframe tbody tr th {\n",
       "        vertical-align: top;\n",
       "    }\n",
       "\n",
       "    .dataframe thead th {\n",
       "        text-align: right;\n",
       "    }\n",
       "</style>\n",
       "<table border=\"1\" class=\"dataframe\">\n",
       "  <thead>\n",
       "    <tr style=\"text-align: right;\">\n",
       "      <th></th>\n",
       "      <th>fb_cvr</th>\n",
       "      <th>g_cvr</th>\n",
       "    </tr>\n",
       "  </thead>\n",
       "  <tbody>\n",
       "    <tr>\n",
       "      <th>count</th>\n",
       "      <td>365.000000</td>\n",
       "      <td>365.000000</td>\n",
       "    </tr>\n",
       "    <tr>\n",
       "      <th>mean</th>\n",
       "      <td>0.271533</td>\n",
       "      <td>0.101844</td>\n",
       "    </tr>\n",
       "    <tr>\n",
       "      <th>std</th>\n",
       "      <td>0.041659</td>\n",
       "      <td>0.028874</td>\n",
       "    </tr>\n",
       "    <tr>\n",
       "      <th>min</th>\n",
       "      <td>0.214800</td>\n",
       "      <td>0.061300</td>\n",
       "    </tr>\n",
       "    <tr>\n",
       "      <th>25%</th>\n",
       "      <td>0.238000</td>\n",
       "      <td>0.077000</td>\n",
       "    </tr>\n",
       "    <tr>\n",
       "      <th>50%</th>\n",
       "      <td>0.267700</td>\n",
       "      <td>0.099300</td>\n",
       "    </tr>\n",
       "    <tr>\n",
       "      <th>75%</th>\n",
       "      <td>0.289700</td>\n",
       "      <td>0.120300</td>\n",
       "    </tr>\n",
       "    <tr>\n",
       "      <th>max</th>\n",
       "      <td>0.475900</td>\n",
       "      <td>0.200600</td>\n",
       "    </tr>\n",
       "  </tbody>\n",
       "</table>\n",
       "</div>"
      ],
      "text/plain": [
       "           fb_cvr       g_cvr\n",
       "count  365.000000  365.000000\n",
       "mean     0.271533    0.101844\n",
       "std      0.041659    0.028874\n",
       "min      0.214800    0.061300\n",
       "25%      0.238000    0.077000\n",
       "50%      0.267700    0.099300\n",
       "75%      0.289700    0.120300\n",
       "max      0.475900    0.200600"
      ]
     },
     "execution_count": 53,
     "metadata": {},
     "output_type": "execute_result"
    }
   ],
   "source": [
    "df[['fb_cvr', 'g_cvr']].describe()"
   ]
  },
  {
   "cell_type": "code",
   "execution_count": 54,
   "id": "223fb36f-a4a6-47d9-8453-ae6b3bc64a3e",
   "metadata": {},
   "outputs": [
    {
     "name": "stdout",
     "output_type": "stream",
     "text": [
      "5.429820948529956e-301\n"
     ]
    }
   ],
   "source": [
    "# p-value\n",
    "pval = st.t.cdf(-1 * abs(tscr), df=dof) * 2\n",
    "print(pval)"
   ]
  },
  {
   "cell_type": "markdown",
   "id": "aa03aa50-a942-46ae-9ab3-6975a5165a09",
   "metadata": {},
   "source": [
    "The T-score value is <strong>extremely significant</strong>. This is a very extreme test statistic.\n",
    "<br/>For common tests, a rule of thumb is to reject the null hypotheses when the T-score is bigger than 2.\n",
    "<br/>From the mean values of 0.27 and 0.10 and with such small standard deviations of 0.04 and 0.03 respectively, we could easily say that the conversion rates are different.\n",
    "<br/>The positive value of t-statistic indicates that Facebook Ad conversion rate population mean is greater than the Google Ad one.\n",
    "\n",
    "Such an extreme result also means that the hypotheses is pointless (the hypothesis doesn't make much sense).\n",
    "<br/>A much more interesting question would be if the conversion rate of Facebook Ad is 15% higher than that of Google Ad."
   ]
  },
  {
   "cell_type": "markdown",
   "id": "1a4a7ba8-6e7d-45fa-8e20-34ac57c5abd4",
   "metadata": {},
   "source": [
    "***"
   ]
  },
  {
   "cell_type": "markdown",
   "id": "a6227d08-52bf-457d-93c8-7a230a757627",
   "metadata": {},
   "source": [
    "#### **Problem**\n",
    "Examine whether the conversion rate on the Facebook platform is 16% higher than the conversion rate on the Google platform."
   ]
  },
  {
   "cell_type": "markdown",
   "id": "31dc5e1f-6f83-4925-929c-8fcefdc22783",
   "metadata": {},
   "source": [
    "#### **Primary Metric**\n",
    "Conversio rate"
   ]
  },
  {
   "cell_type": "markdown",
   "id": "d981ea11-e93e-4757-ba2f-d29379c5871c",
   "metadata": {},
   "source": [
    "#### **Hypothesis**\n",
    "\n",
    "<p style=\"font-size:1.5em\">\n",
    "    $\n",
    "    H_0: \\mu_{_{FB}} - \\mu_{_{G}} \\leq 0.16\n",
    "    $\n",
    "</p>\n",
    "\n",
    "<p style=\"font-size:1.5em\">\n",
    "    $\n",
    "    H_1: \\mu_{_{FB}} - \\mu_{_{G}} > 0.16\n",
    "    $\n"
   ]
  },
  {
   "cell_type": "code",
   "execution_count": 56,
   "id": "b6201aa4-dfa6-4d21-a077-ebfe0898f292",
   "metadata": {},
   "outputs": [],
   "source": [
    "pop_mean = 0.16"
   ]
  },
  {
   "cell_type": "code",
   "execution_count": 57,
   "id": "5d70960d-f767-4343-a7f5-9d4e7edf0046",
   "metadata": {},
   "outputs": [
    {
     "name": "stdout",
     "output_type": "stream",
     "text": [
      "3.652065835698479\n"
     ]
    }
   ],
   "source": [
    "# t-score\n",
    "tscr = (mean_diff - pop_mean) / se_p\n",
    "print(tscr)"
   ]
  },
  {
   "cell_type": "code",
   "execution_count": 58,
   "id": "d34b86e3-ead6-45e8-afde-1a5188669187",
   "metadata": {},
   "outputs": [
    {
     "name": "stdout",
     "output_type": "stream",
     "text": [
      "0.00013939185693045975\n"
     ]
    }
   ],
   "source": [
    "# p-value\n",
    "# pval = st.t.cdf(-1 * abs(tscr), df=dof)\n",
    "pval = 1 - st.t.cdf(tscr, df=dof)\n",
    "print(pval)"
   ]
  },
  {
   "cell_type": "markdown",
   "id": "2317b2b5-b43e-4678-8e2f-7afcdcc4b7d4",
   "metadata": {},
   "source": [
    "The positive value of t-statistic indicates that Facebook Ad conversion rate population mean is greater than the Google Ad one.\n",
    "<br/>At 0.05 significance, we reject the null hypothesis and accept the alternative hypothesis."
   ]
  },
  {
   "cell_type": "markdown",
   "id": "1f8da926-3ee1-479a-8696-c968ad58e978",
   "metadata": {},
   "source": [
    "<strong>There is a strong statistical evidence that the Facebook Ad performs 16% better than the Google Ad.</strong>"
   ]
  },
  {
   "cell_type": "markdown",
   "id": "9416e45d-9340-4786-9669-0c6301c31bbc",
   "metadata": {},
   "source": [
    "***"
   ]
  },
  {
   "cell_type": "markdown",
   "id": "ab658084-b886-493e-b6e6-5754c4721834",
   "metadata": {},
   "source": [
    "#### **Problem**\n",
    "Examine whether the number of conversion rate on the Facebook platform is 17% higher than the conversion rate on the Google platform."
   ]
  },
  {
   "cell_type": "markdown",
   "id": "8944facc-801f-4dd6-9667-60641442e969",
   "metadata": {},
   "source": [
    "#### **Primary Metric**\n",
    "Conversion rate"
   ]
  },
  {
   "cell_type": "markdown",
   "id": "b42db47f-5a54-467c-8e36-2ff9ac89d2cd",
   "metadata": {},
   "source": [
    "#### **Hypothesis**\n",
    "\n",
    "<p style=\"font-size:1.5em\">\n",
    "    $\n",
    "    H_0: \\mu_{_{FB}} - \\mu_{_{G}} \\leq 0.17\n",
    "    $\n",
    "</p>\n",
    "\n",
    "<p style=\"font-size:1.5em\">\n",
    "    $\n",
    "    H_1: \\mu_{_{FB}} - \\mu_{_{G}} > 0.17\n",
    "    $\n"
   ]
  },
  {
   "cell_type": "code",
   "execution_count": 59,
   "id": "cfcb61f9-d8c8-45dc-8d46-cd34197ceee3",
   "metadata": {},
   "outputs": [],
   "source": [
    "pop_mean = 0.17"
   ]
  },
  {
   "cell_type": "code",
   "execution_count": 60,
   "id": "82815acc-93fb-4f9d-83d0-c4f85cf74f7e",
   "metadata": {},
   "outputs": [
    {
     "name": "stdout",
     "output_type": "stream",
     "text": [
      "-0.11710237679358912\n"
     ]
    }
   ],
   "source": [
    "# t-score\n",
    "tscr = (mean_diff - pop_mean) / se_p\n",
    "print(tscr)"
   ]
  },
  {
   "cell_type": "code",
   "execution_count": 61,
   "id": "eec5a8b8-8559-4cb2-a5f3-a2eaaf6e40f3",
   "metadata": {},
   "outputs": [
    {
     "name": "stdout",
     "output_type": "stream",
     "text": [
      "0.5465943878325259\n"
     ]
    }
   ],
   "source": [
    "# p-value\n",
    "# pval = st.t.cdf(-1 * abs(tscr), df=dof)\n",
    "pval = 1 - st.t.cdf(tscr, df=dof)\n",
    "print(pval)"
   ]
  },
  {
   "cell_type": "markdown",
   "id": "0a5cbd44-f98e-402e-93da-cde09d7c21db",
   "metadata": {},
   "source": [
    "At 0.05 significance, we fail to reject the null hypothesis."
   ]
  },
  {
   "cell_type": "markdown",
   "id": "a41bfd3b-bdbc-4ed7-bd51-02087b26c061",
   "metadata": {},
   "source": [
    "<strong>There is \"No significant\" statistical evidence to consider the Facebook Ad performance is 17% better than the Google Ad.</strong>"
   ]
  },
  {
   "cell_type": "markdown",
   "id": "592b9da3-1d7f-45bb-83fb-ffaf745ff99f",
   "metadata": {},
   "source": [
    "***"
   ]
  },
  {
   "cell_type": "markdown",
   "id": "f0376a56-6808-4f64-b25a-dcfcfb3a88e8",
   "metadata": {},
   "source": [
    "### Result\n",
    "#### <strong><em>Our conversion rate will be 16% greater if we advertise on Facebook platform rather than Google platform.</em></strong>"
   ]
  },
  {
   "cell_type": "markdown",
   "id": "7340b147-86d0-4b69-8844-6182961f2aa3",
   "metadata": {},
   "source": [
    "***"
   ]
  },
  {
   "cell_type": "code",
   "execution_count": null,
   "id": "c68ba187-1a0f-4161-b147-ad6eb7553f83",
   "metadata": {},
   "outputs": [],
   "source": []
  }
 ],
 "metadata": {
  "kernelspec": {
   "display_name": "Python 3 (ipykernel)",
   "language": "python",
   "name": "python3"
  },
  "language_info": {
   "codemirror_mode": {
    "name": "ipython",
    "version": 3
   },
   "file_extension": ".py",
   "mimetype": "text/x-python",
   "name": "python",
   "nbconvert_exporter": "python",
   "pygments_lexer": "ipython3",
   "version": "3.11.2"
  }
 },
 "nbformat": 4,
 "nbformat_minor": 5
}
